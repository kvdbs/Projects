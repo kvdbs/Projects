{
  "nbformat": 4,
  "nbformat_minor": 0,
  "metadata": {
    "colab": {
      "name": "Conversion rate project.ipynb",
      "provenance": [],
      "collapsed_sections": [],
      "toc_visible": true
    },
    "kernelspec": {
      "name": "python3",
      "display_name": "Python 3"
    }
  },
  "cells": [
    {
      "cell_type": "markdown",
      "metadata": {
        "id": "-adOjGmeqHKy",
        "colab_type": "text"
      },
      "source": [
        "# ***Predicting conversion rate with ML algorithms / Recommendations to the marketing team***"
      ]
    },
    {
      "cell_type": "markdown",
      "metadata": {
        "id": "OhvadOKGv6Ux",
        "colab_type": "text"
      },
      "source": [
        "# **Loading libraries and importing dataset**"
      ]
    },
    {
      "cell_type": "code",
      "metadata": {
        "id": "VcRqtCKzvJzU",
        "colab_type": "code",
        "colab": {
          "base_uri": "https://localhost:8080/",
          "height": 70
        },
        "outputId": "1fa845fa-2ae4-4555-c279-edd8f9a51959"
      },
      "source": [
        "import seaborn as sns\n",
        "import pandas as pd\n",
        "import matplotlib.pyplot as plt\n",
        "import numpy as np\n",
        "import statsmodels\n",
        "import sklearn\n",
        "import graphviz\n",
        "import pydotplus\n",
        "from sklearn.tree import export_graphviz\n",
        "from sklearn.model_selection import cross_val_score\n",
        "from sklearn.model_selection import KFold\n",
        "from sklearn.metrics import classification_report\n",
        "from sklearn.metrics import confusion_matrix\n",
        "from sklearn.metrics import accuracy_score\n",
        "from sklearn.svm import SVC\n",
        "pd.options.mode.chained_assignment = None "
      ],
      "execution_count": null,
      "outputs": [
        {
          "output_type": "stream",
          "text": [
            "/usr/local/lib/python3.6/dist-packages/statsmodels/tools/_testing.py:19: FutureWarning: pandas.util.testing is deprecated. Use the functions in the public API at pandas.testing instead.\n",
            "  import pandas.util.testing as tm\n"
          ],
          "name": "stderr"
        }
      ]
    },
    {
      "cell_type": "code",
      "metadata": {
        "id": "rGz-KkuDvOJh",
        "colab_type": "code",
        "colab": {}
      },
      "source": [
        "df = pd.read_csv('conversion_data.csv')"
      ],
      "execution_count": null,
      "outputs": []
    },
    {
      "cell_type": "markdown",
      "metadata": {
        "id": "s9sSKMGBv9RA",
        "colab_type": "text"
      },
      "source": [
        "# **Dataset cleaning**"
      ]
    },
    {
      "cell_type": "code",
      "metadata": {
        "id": "XrgUMQEov94g",
        "colab_type": "code",
        "colab": {
          "base_uri": "https://localhost:8080/",
          "height": 191
        },
        "outputId": "add5e8ae-9731-457a-fd47-9d9449ae1de5"
      },
      "source": [
        "df.head()"
      ],
      "execution_count": null,
      "outputs": [
        {
          "output_type": "execute_result",
          "data": {
            "text/html": [
              "<div>\n",
              "<style scoped>\n",
              "    .dataframe tbody tr th:only-of-type {\n",
              "        vertical-align: middle;\n",
              "    }\n",
              "\n",
              "    .dataframe tbody tr th {\n",
              "        vertical-align: top;\n",
              "    }\n",
              "\n",
              "    .dataframe thead th {\n",
              "        text-align: right;\n",
              "    }\n",
              "</style>\n",
              "<table border=\"1\" class=\"dataframe\">\n",
              "  <thead>\n",
              "    <tr style=\"text-align: right;\">\n",
              "      <th></th>\n",
              "      <th>country</th>\n",
              "      <th>age</th>\n",
              "      <th>new_user</th>\n",
              "      <th>source</th>\n",
              "      <th>total_pages_visited</th>\n",
              "      <th>converted</th>\n",
              "    </tr>\n",
              "  </thead>\n",
              "  <tbody>\n",
              "    <tr>\n",
              "      <th>0</th>\n",
              "      <td>UK</td>\n",
              "      <td>25</td>\n",
              "      <td>1</td>\n",
              "      <td>Ads</td>\n",
              "      <td>1</td>\n",
              "      <td>0</td>\n",
              "    </tr>\n",
              "    <tr>\n",
              "      <th>1</th>\n",
              "      <td>US</td>\n",
              "      <td>23</td>\n",
              "      <td>1</td>\n",
              "      <td>Seo</td>\n",
              "      <td>5</td>\n",
              "      <td>0</td>\n",
              "    </tr>\n",
              "    <tr>\n",
              "      <th>2</th>\n",
              "      <td>US</td>\n",
              "      <td>28</td>\n",
              "      <td>1</td>\n",
              "      <td>Seo</td>\n",
              "      <td>4</td>\n",
              "      <td>0</td>\n",
              "    </tr>\n",
              "    <tr>\n",
              "      <th>3</th>\n",
              "      <td>China</td>\n",
              "      <td>39</td>\n",
              "      <td>1</td>\n",
              "      <td>Seo</td>\n",
              "      <td>5</td>\n",
              "      <td>0</td>\n",
              "    </tr>\n",
              "    <tr>\n",
              "      <th>4</th>\n",
              "      <td>US</td>\n",
              "      <td>30</td>\n",
              "      <td>1</td>\n",
              "      <td>Seo</td>\n",
              "      <td>6</td>\n",
              "      <td>0</td>\n",
              "    </tr>\n",
              "  </tbody>\n",
              "</table>\n",
              "</div>"
            ],
            "text/plain": [
              "  country  age  new_user source  total_pages_visited  converted\n",
              "0      UK   25         1    Ads                    1          0\n",
              "1      US   23         1    Seo                    5          0\n",
              "2      US   28         1    Seo                    4          0\n",
              "3   China   39         1    Seo                    5          0\n",
              "4      US   30         1    Seo                    6          0"
            ]
          },
          "metadata": {
            "tags": []
          },
          "execution_count": 3
        }
      ]
    },
    {
      "cell_type": "code",
      "metadata": {
        "id": "UlU_0cSewJl5",
        "colab_type": "code",
        "colab": {
          "base_uri": "https://localhost:8080/",
          "height": 33
        },
        "outputId": "3d4e2a56-29af-40b8-fd81-6423d8ec966c"
      },
      "source": [
        "df.shape"
      ],
      "execution_count": null,
      "outputs": [
        {
          "output_type": "execute_result",
          "data": {
            "text/plain": [
              "(316200, 6)"
            ]
          },
          "metadata": {
            "tags": []
          },
          "execution_count": 4
        }
      ]
    },
    {
      "cell_type": "code",
      "metadata": {
        "id": "rWDIC6_NwLl2",
        "colab_type": "code",
        "colab": {
          "base_uri": "https://localhost:8080/",
          "height": 228
        },
        "outputId": "cccb59db-a4eb-4980-fc7f-79fc3ceb08dc"
      },
      "source": [
        "df.info()"
      ],
      "execution_count": null,
      "outputs": [
        {
          "output_type": "stream",
          "text": [
            "<class 'pandas.core.frame.DataFrame'>\n",
            "RangeIndex: 316200 entries, 0 to 316199\n",
            "Data columns (total 6 columns):\n",
            " #   Column               Non-Null Count   Dtype \n",
            "---  ------               --------------   ----- \n",
            " 0   country              316200 non-null  object\n",
            " 1   age                  316200 non-null  int64 \n",
            " 2   new_user             316200 non-null  int64 \n",
            " 3   source               316200 non-null  object\n",
            " 4   total_pages_visited  316200 non-null  int64 \n",
            " 5   converted            316200 non-null  int64 \n",
            "dtypes: int64(4), object(2)\n",
            "memory usage: 14.5+ MB\n"
          ],
          "name": "stdout"
        }
      ]
    },
    {
      "cell_type": "code",
      "metadata": {
        "id": "T4HyS7yuwNhE",
        "colab_type": "code",
        "colab": {
          "base_uri": "https://localhost:8080/",
          "height": 131
        },
        "outputId": "88673174-0c64-4fbf-ba4f-43bafff89a8b"
      },
      "source": [
        "df.isnull().sum(axis = 0)"
      ],
      "execution_count": null,
      "outputs": [
        {
          "output_type": "execute_result",
          "data": {
            "text/plain": [
              "country                0\n",
              "age                    0\n",
              "new_user               0\n",
              "source                 0\n",
              "total_pages_visited    0\n",
              "converted              0\n",
              "dtype: int64"
            ]
          },
          "metadata": {
            "tags": []
          },
          "execution_count": 6
        }
      ]
    },
    {
      "cell_type": "code",
      "metadata": {
        "id": "sJJ3kyMlwW0c",
        "colab_type": "code",
        "colab": {
          "base_uri": "https://localhost:8080/",
          "height": 277
        },
        "outputId": "9e32f35a-ce9f-4cdb-ee2e-8cb9efbfbaf1"
      },
      "source": [
        "df.describe()"
      ],
      "execution_count": null,
      "outputs": [
        {
          "output_type": "execute_result",
          "data": {
            "text/html": [
              "<div>\n",
              "<style scoped>\n",
              "    .dataframe tbody tr th:only-of-type {\n",
              "        vertical-align: middle;\n",
              "    }\n",
              "\n",
              "    .dataframe tbody tr th {\n",
              "        vertical-align: top;\n",
              "    }\n",
              "\n",
              "    .dataframe thead th {\n",
              "        text-align: right;\n",
              "    }\n",
              "</style>\n",
              "<table border=\"1\" class=\"dataframe\">\n",
              "  <thead>\n",
              "    <tr style=\"text-align: right;\">\n",
              "      <th></th>\n",
              "      <th>age</th>\n",
              "      <th>new_user</th>\n",
              "      <th>total_pages_visited</th>\n",
              "      <th>converted</th>\n",
              "    </tr>\n",
              "  </thead>\n",
              "  <tbody>\n",
              "    <tr>\n",
              "      <th>count</th>\n",
              "      <td>316200.000000</td>\n",
              "      <td>316200.000000</td>\n",
              "      <td>316200.000000</td>\n",
              "      <td>316200.000000</td>\n",
              "    </tr>\n",
              "    <tr>\n",
              "      <th>mean</th>\n",
              "      <td>30.569858</td>\n",
              "      <td>0.685465</td>\n",
              "      <td>4.872966</td>\n",
              "      <td>0.032258</td>\n",
              "    </tr>\n",
              "    <tr>\n",
              "      <th>std</th>\n",
              "      <td>8.271802</td>\n",
              "      <td>0.464331</td>\n",
              "      <td>3.341104</td>\n",
              "      <td>0.176685</td>\n",
              "    </tr>\n",
              "    <tr>\n",
              "      <th>min</th>\n",
              "      <td>17.000000</td>\n",
              "      <td>0.000000</td>\n",
              "      <td>1.000000</td>\n",
              "      <td>0.000000</td>\n",
              "    </tr>\n",
              "    <tr>\n",
              "      <th>25%</th>\n",
              "      <td>24.000000</td>\n",
              "      <td>0.000000</td>\n",
              "      <td>2.000000</td>\n",
              "      <td>0.000000</td>\n",
              "    </tr>\n",
              "    <tr>\n",
              "      <th>50%</th>\n",
              "      <td>30.000000</td>\n",
              "      <td>1.000000</td>\n",
              "      <td>4.000000</td>\n",
              "      <td>0.000000</td>\n",
              "    </tr>\n",
              "    <tr>\n",
              "      <th>75%</th>\n",
              "      <td>36.000000</td>\n",
              "      <td>1.000000</td>\n",
              "      <td>7.000000</td>\n",
              "      <td>0.000000</td>\n",
              "    </tr>\n",
              "    <tr>\n",
              "      <th>max</th>\n",
              "      <td>123.000000</td>\n",
              "      <td>1.000000</td>\n",
              "      <td>29.000000</td>\n",
              "      <td>1.000000</td>\n",
              "    </tr>\n",
              "  </tbody>\n",
              "</table>\n",
              "</div>"
            ],
            "text/plain": [
              "                 age       new_user  total_pages_visited      converted\n",
              "count  316200.000000  316200.000000        316200.000000  316200.000000\n",
              "mean       30.569858       0.685465             4.872966       0.032258\n",
              "std         8.271802       0.464331             3.341104       0.176685\n",
              "min        17.000000       0.000000             1.000000       0.000000\n",
              "25%        24.000000       0.000000             2.000000       0.000000\n",
              "50%        30.000000       1.000000             4.000000       0.000000\n",
              "75%        36.000000       1.000000             7.000000       0.000000\n",
              "max       123.000000       1.000000            29.000000       1.000000"
            ]
          },
          "metadata": {
            "tags": []
          },
          "execution_count": 7
        }
      ]
    },
    {
      "cell_type": "code",
      "metadata": {
        "id": "xbAOtsWGwZPs",
        "colab_type": "code",
        "colab": {
          "base_uri": "https://localhost:8080/",
          "height": 295
        },
        "outputId": "da06c862-823e-4179-abd1-baeddf15070e"
      },
      "source": [
        "sns.distplot(df.age)"
      ],
      "execution_count": null,
      "outputs": [
        {
          "output_type": "execute_result",
          "data": {
            "text/plain": [
              "<matplotlib.axes._subplots.AxesSubplot at 0x7fb4ac747160>"
            ]
          },
          "metadata": {
            "tags": []
          },
          "execution_count": 8
        },
        {
          "output_type": "display_data",
          "data": {
            "image/png": "[encoded data removed]",
            "text/plain": [
              "<Figure size 432x288 with 1 Axes>"
            ]
          },
          "metadata": {
            "tags": [],
            "needs_background": "light"
          }
        }
      ]
    },
    {
      "cell_type": "code",
      "metadata": {
        "id": "c3PBQOxYwbe5",
        "colab_type": "code",
        "colab": {
          "base_uri": "https://localhost:8080/",
          "height": 295
        },
        "outputId": "3c4527b0-db4b-4c87-99e0-abc03fc1f351"
      },
      "source": [
        "sns.distplot(df.age)"
      ],
      "execution_count": null,
      "outputs": [
        {
          "output_type": "execute_result",
          "data": {
            "text/plain": [
              "<matplotlib.axes._subplots.AxesSubplot at 0x7fb4ac7206a0>"
            ]
          },
          "metadata": {
            "tags": []
          },
          "execution_count": 9
        },
        {
          "output_type": "display_data",
          "data": {
            "image/png": "[encoded data removed]",
            "text/plain": [
              "<Figure size 432x288 with 1 Axes>"
            ]
          },
          "metadata": {
            "tags": [],
            "needs_background": "light"
          }
        }
      ]
    },
    {
      "cell_type": "code",
      "metadata": {
        "id": "TDCNImn9wdwb",
        "colab_type": "code",
        "colab": {}
      },
      "source": [
        "new_df = new_df = df[(df.age < df.age.mean() + 3*df.age.std()) & (df.age > df.age.mean()- 3*df.age.std())]"
      ],
      "execution_count": null,
      "outputs": []
    },
    {
      "cell_type": "code",
      "metadata": {
        "id": "vEiYdv0_wgSo",
        "colab_type": "code",
        "colab": {
          "base_uri": "https://localhost:8080/",
          "height": 295
        },
        "outputId": "de5ff437-fc30-4130-e0fd-9bc90a65f2d7"
      },
      "source": [
        "sns.distplot(new_df.age)"
      ],
      "execution_count": null,
      "outputs": [
        {
          "output_type": "execute_result",
          "data": {
            "text/plain": [
              "<matplotlib.axes._subplots.AxesSubplot at 0x7fb4ac0c69e8>"
            ]
          },
          "metadata": {
            "tags": []
          },
          "execution_count": 11
        },
        {
          "output_type": "display_data",
          "data": {
            "image/png": "[encoded data removed]",
            "text/plain": [
              "<Figure size 432x288 with 1 Axes>"
            ]
          },
          "metadata": {
            "tags": [],
            "needs_background": "light"
          }
        }
      ]
    },
    {
      "cell_type": "code",
      "metadata": {
        "id": "eCsF5wrnwjp2",
        "colab_type": "code",
        "colab": {
          "base_uri": "https://localhost:8080/",
          "height": 295
        },
        "outputId": "17dbbfee-5971-455e-efa5-365f2f478e1c"
      },
      "source": [
        "sns.boxplot(new_df.age)"
      ],
      "execution_count": null,
      "outputs": [
        {
          "output_type": "execute_result",
          "data": {
            "text/plain": [
              "<matplotlib.axes._subplots.AxesSubplot at 0x7fb4ac0794a8>"
            ]
          },
          "metadata": {
            "tags": []
          },
          "execution_count": 12
        },
        {
          "output_type": "display_data",
          "data": {
            "image/png": "[encoded data removed]",
            "text/plain": [
              "<Figure size 432x288 with 1 Axes>"
            ]
          },
          "metadata": {
            "tags": [],
            "needs_background": "light"
          }
        }
      ]
    },
    {
      "cell_type": "code",
      "metadata": {
        "id": "nPL5fsU6wmhN",
        "colab_type": "code",
        "colab": {
          "base_uri": "https://localhost:8080/",
          "height": 277
        },
        "outputId": "7c9cf010-fb3b-45a7-a763-387ac71a1db6"
      },
      "source": [
        "new_df.describe()"
      ],
      "execution_count": null,
      "outputs": [
        {
          "output_type": "execute_result",
          "data": {
            "text/html": [
              "<div>\n",
              "<style scoped>\n",
              "    .dataframe tbody tr th:only-of-type {\n",
              "        vertical-align: middle;\n",
              "    }\n",
              "\n",
              "    .dataframe tbody tr th {\n",
              "        vertical-align: top;\n",
              "    }\n",
              "\n",
              "    .dataframe thead th {\n",
              "        text-align: right;\n",
              "    }\n",
              "</style>\n",
              "<table border=\"1\" class=\"dataframe\">\n",
              "  <thead>\n",
              "    <tr style=\"text-align: right;\">\n",
              "      <th></th>\n",
              "      <th>age</th>\n",
              "      <th>new_user</th>\n",
              "      <th>total_pages_visited</th>\n",
              "      <th>converted</th>\n",
              "    </tr>\n",
              "  </thead>\n",
              "  <tbody>\n",
              "    <tr>\n",
              "      <th>count</th>\n",
              "      <td>315044.000000</td>\n",
              "      <td>315044.000000</td>\n",
              "      <td>315044.000000</td>\n",
              "      <td>315044.000000</td>\n",
              "    </tr>\n",
              "    <tr>\n",
              "      <th>mean</th>\n",
              "      <td>30.466674</td>\n",
              "      <td>0.685460</td>\n",
              "      <td>4.873805</td>\n",
              "      <td>0.032354</td>\n",
              "    </tr>\n",
              "    <tr>\n",
              "      <th>std</th>\n",
              "      <td>8.106238</td>\n",
              "      <td>0.464333</td>\n",
              "      <td>3.342794</td>\n",
              "      <td>0.176939</td>\n",
              "    </tr>\n",
              "    <tr>\n",
              "      <th>min</th>\n",
              "      <td>17.000000</td>\n",
              "      <td>0.000000</td>\n",
              "      <td>1.000000</td>\n",
              "      <td>0.000000</td>\n",
              "    </tr>\n",
              "    <tr>\n",
              "      <th>25%</th>\n",
              "      <td>24.000000</td>\n",
              "      <td>0.000000</td>\n",
              "      <td>2.000000</td>\n",
              "      <td>0.000000</td>\n",
              "    </tr>\n",
              "    <tr>\n",
              "      <th>50%</th>\n",
              "      <td>30.000000</td>\n",
              "      <td>1.000000</td>\n",
              "      <td>4.000000</td>\n",
              "      <td>0.000000</td>\n",
              "    </tr>\n",
              "    <tr>\n",
              "      <th>75%</th>\n",
              "      <td>36.000000</td>\n",
              "      <td>1.000000</td>\n",
              "      <td>7.000000</td>\n",
              "      <td>0.000000</td>\n",
              "    </tr>\n",
              "    <tr>\n",
              "      <th>max</th>\n",
              "      <td>55.000000</td>\n",
              "      <td>1.000000</td>\n",
              "      <td>29.000000</td>\n",
              "      <td>1.000000</td>\n",
              "    </tr>\n",
              "  </tbody>\n",
              "</table>\n",
              "</div>"
            ],
            "text/plain": [
              "                 age       new_user  total_pages_visited      converted\n",
              "count  315044.000000  315044.000000        315044.000000  315044.000000\n",
              "mean       30.466674       0.685460             4.873805       0.032354\n",
              "std         8.106238       0.464333             3.342794       0.176939\n",
              "min        17.000000       0.000000             1.000000       0.000000\n",
              "25%        24.000000       0.000000             2.000000       0.000000\n",
              "50%        30.000000       1.000000             4.000000       0.000000\n",
              "75%        36.000000       1.000000             7.000000       0.000000\n",
              "max        55.000000       1.000000            29.000000       1.000000"
            ]
          },
          "metadata": {
            "tags": []
          },
          "execution_count": 13
        }
      ]
    },
    {
      "cell_type": "code",
      "metadata": {
        "id": "cc_f86eQwqIh",
        "colab_type": "code",
        "colab": {
          "base_uri": "https://localhost:8080/",
          "height": 131
        },
        "outputId": "10bbb893-61cd-4855-a4e1-0cf661e85a99"
      },
      "source": [
        "new_df.isnull().sum(axis = 0)"
      ],
      "execution_count": null,
      "outputs": [
        {
          "output_type": "execute_result",
          "data": {
            "text/plain": [
              "country                0\n",
              "age                    0\n",
              "new_user               0\n",
              "source                 0\n",
              "total_pages_visited    0\n",
              "converted              0\n",
              "dtype: int64"
            ]
          },
          "metadata": {
            "tags": []
          },
          "execution_count": 14
        }
      ]
    },
    {
      "cell_type": "markdown",
      "metadata": {
        "id": "zjiAZ6KuxDAP",
        "colab_type": "text"
      },
      "source": [
        "# **Dataset exploration**"
      ]
    },
    {
      "cell_type": "code",
      "metadata": {
        "id": "IHxYY8IGxEO7",
        "colab_type": "code",
        "colab": {
          "base_uri": "https://localhost:8080/",
          "height": 395
        },
        "outputId": "986b45f7-a98e-4444-99c7-3b00db53bf72"
      },
      "source": [
        "corr = new_df.corr()\n",
        "f, ax = plt.subplots(figsize=(9, 6))\n",
        "sns.heatmap(corr, annot=True, ax=ax)"
      ],
      "execution_count": null,
      "outputs": [
        {
          "output_type": "execute_result",
          "data": {
            "text/plain": [
              "<matplotlib.axes._subplots.AxesSubplot at 0x7fb4abf95ba8>"
            ]
          },
          "metadata": {
            "tags": []
          },
          "execution_count": 15
        },
        {
          "output_type": "display_data",
          "data": {
            "image/png": "[encoded data removed]",
            "text/plain": [
              "<Figure size 648x432 with 2 Axes>"
            ]
          },
          "metadata": {
            "tags": [],
            "needs_background": "light"
          }
        }
      ]
    },
    {
      "cell_type": "code",
      "metadata": {
        "id": "xb9xllluxKWC",
        "colab_type": "code",
        "colab": {
          "base_uri": "https://localhost:8080/",
          "height": 295
        },
        "outputId": "c96b4b67-d3cb-4d1e-f03d-cef97404667d"
      },
      "source": [
        "ax = sns.countplot(new_df.country, data=new_df)\n",
        "ax.set_title(\"Nombre d'utilisateurs par pays\")\n",
        "plt.show()"
      ],
      "execution_count": null,
      "outputs": [
        {
          "output_type": "display_data",
          "data": {
            "image/png": "[encoded data removed]",
            "text/plain": [
              "<Figure size 432x288 with 1 Axes>"
            ]
          },
          "metadata": {
            "tags": [],
            "needs_background": "light"
          }
        }
      ]
    },
    {
      "cell_type": "code",
      "metadata": {
        "id": "Iq_J-OIsxRQN",
        "colab_type": "code",
        "colab": {
          "base_uri": "https://localhost:8080/",
          "height": 295
        },
        "outputId": "fc7350ba-cd66-4b74-b799-fb5177554ee5"
      },
      "source": [
        "ax = sns.countplot(x=\"country\", hue=\"new_user\", data=new_df)\n",
        "ax.set_title(\"Nouveaux utilisateurs par pays\")\n",
        "plt.show()"
      ],
      "execution_count": null,
      "outputs": [
        {
          "output_type": "display_data",
          "data": {
            "image/png": "[encoded data removed]",
            "text/plain": [
              "<Figure size 432x288 with 1 Axes>"
            ]
          },
          "metadata": {
            "tags": [],
            "needs_background": "light"
          }
        }
      ]
    },
    {
      "cell_type": "code",
      "metadata": {
        "id": "nC9giUSSxv04",
        "colab_type": "code",
        "colab": {
          "base_uri": "https://localhost:8080/",
          "height": 386
        },
        "outputId": "a0e52f1a-df69-4589-d24f-f633687d74ae"
      },
      "source": [
        "ax = new_df.groupby(\"country\")[\"converted\"].mean().plot(kind=\"bar\", figsize=(10,5))\n",
        "ax.set_title(\"Conversion moyenne par pays\")\n",
        "plt.show()"
      ],
      "execution_count": null,
      "outputs": [
        {
          "output_type": "display_data",
          "data": {
            "image/png": "[encoded data removed]",
            "text/plain": [
              "<Figure size 720x360 with 1 Axes>"
            ]
          },
          "metadata": {
            "tags": [],
            "needs_background": "light"
          }
        }
      ]
    },
    {
      "cell_type": "code",
      "metadata": {
        "id": "yW2ad4EIxzFK",
        "colab_type": "code",
        "colab": {
          "base_uri": "https://localhost:8080/",
          "height": 370
        },
        "outputId": "98863b1d-4848-481f-af47-6b1f6afcead3"
      },
      "source": [
        "ax = new_df.groupby(\"source\")[\"converted\"].mean().plot(kind=\"bar\", figsize=(10,5))\n",
        "ax.set_title(\"Conversion moyenne selon source\")\n",
        "plt.show()"
      ],
      "execution_count": null,
      "outputs": [
        {
          "output_type": "display_data",
          "data": {
            "image/png": "[encoded data removed]",
            "text/plain": [
              "<Figure size 720x360 with 1 Axes>"
            ]
          },
          "metadata": {
            "tags": [],
            "needs_background": "light"
          }
        }
      ]
    },
    {
      "cell_type": "code",
      "metadata": {
        "id": "4QB6gYmHx9eR",
        "colab_type": "code",
        "colab": {
          "base_uri": "https://localhost:8080/",
          "height": 351
        },
        "outputId": "82901061-b4b3-44c1-eab7-b778a6692291"
      },
      "source": [
        "ax = new_df.groupby('total_pages_visited')[['converted']].mean().plot(kind=\"line\", figsize=(10,5))\n",
        "ax.set_title(\"Conversion selon nb de pages visitées\")\n",
        "plt.show()"
      ],
      "execution_count": null,
      "outputs": [
        {
          "output_type": "display_data",
          "data": {
            "image/png": "[encoded data removed]",
            "text/plain": [
              "<Figure size 720x360 with 1 Axes>"
            ]
          },
          "metadata": {
            "tags": [],
            "needs_background": "light"
          }
        }
      ]
    },
    {
      "cell_type": "code",
      "metadata": {
        "id": "vVREJYISyoFf",
        "colab_type": "code",
        "colab": {
          "base_uri": "https://localhost:8080/",
          "height": 350
        },
        "outputId": "9942f879-82a2-46fb-a957-d46957cc497e"
      },
      "source": [
        "ax = new_df.groupby('age')[['converted']].mean().plot(kind=\"line\", figsize=(10,5))\n",
        "ax.set_title(\"Conversion selon âge\")\n",
        "plt.show()"
      ],
      "execution_count": null,
      "outputs": [
        {
          "output_type": "display_data",
          "data": {
            "image/png": "[encoded data removed]",
            "text/plain": [
              "<Figure size 720x360 with 1 Axes>"
            ]
          },
          "metadata": {
            "tags": [],
            "needs_background": "light"
          }
        }
      ]
    },
    {
      "cell_type": "code",
      "metadata": {
        "id": "ih0yiJRNzet8",
        "colab_type": "code",
        "colab": {
          "base_uri": "https://localhost:8080/",
          "height": 295
        },
        "outputId": "987981c8-8a1d-4710-bf22-b1d377b943bd"
      },
      "source": [
        "ax = sns.countplot(x=\"new_user\", hue=\"converted\", data=new_df)\n",
        "ax.set_title(\"Conversion selon type utilisateur\")\n",
        "plt.show()"
      ],
      "execution_count": null,
      "outputs": [
        {
          "output_type": "display_data",
          "data": {
            "image/png": "[encoded data removed]",
            "text/plain": [
              "<Figure size 432x288 with 1 Axes>"
            ]
          },
          "metadata": {
            "tags": [],
            "needs_background": "light"
          }
        }
      ]
    },
    {
      "cell_type": "code",
      "metadata": {
        "id": "avGrUYR7z2ia",
        "colab_type": "code",
        "colab": {
          "base_uri": "https://localhost:8080/",
          "height": 66
        },
        "outputId": "09e3dd43-1244-4601-fdfb-9b3ce3f49189"
      },
      "source": [
        "new_df[\"converted\"].value_counts()"
      ],
      "execution_count": null,
      "outputs": [
        {
          "output_type": "execute_result",
          "data": {
            "text/plain": [
              "0    304851\n",
              "1     10193\n",
              "Name: converted, dtype: int64"
            ]
          },
          "metadata": {
            "tags": []
          },
          "execution_count": 23
        }
      ]
    },
    {
      "cell_type": "markdown",
      "metadata": {
        "id": "bDpB3ytF0Fen",
        "colab_type": "text"
      },
      "source": [
        "# **Dummification**"
      ]
    },
    {
      "cell_type": "code",
      "metadata": {
        "id": "JcSeDtmQxMys",
        "colab_type": "code",
        "colab": {}
      },
      "source": [
        "new_df[\"country\"] = new_df[\"country\"].astype(\"category\")\n",
        "new_df[\"new_user\"] = new_df[\"new_user\"].astype(\"category\")\n",
        "new_df[\"source\"] = new_df[\"source\"].astype(\"category\")\n",
        "new_df[\"converted\"] = new_df[\"converted\"].astype(\"category\")"
      ],
      "execution_count": null,
      "outputs": []
    },
    {
      "cell_type": "code",
      "metadata": {
        "id": "ZZLZRmmC0Kdj",
        "colab_type": "code",
        "colab": {}
      },
      "source": [
        "df2 = pd.get_dummies(new_df, columns=[\"country\",\"source\"])"
      ],
      "execution_count": null,
      "outputs": []
    },
    {
      "cell_type": "code",
      "metadata": {
        "id": "jXtaapGy0P3K",
        "colab_type": "code",
        "colab": {
          "base_uri": "https://localhost:8080/",
          "height": 191
        },
        "outputId": "3d051808-14f5-4994-bbb9-22d7d31efe5a"
      },
      "source": [
        "df2.head()"
      ],
      "execution_count": null,
      "outputs": [
        {
          "output_type": "execute_result",
          "data": {
            "text/html": [
              "<div>\n",
              "<style scoped>\n",
              "    .dataframe tbody tr th:only-of-type {\n",
              "        vertical-align: middle;\n",
              "    }\n",
              "\n",
              "    .dataframe tbody tr th {\n",
              "        vertical-align: top;\n",
              "    }\n",
              "\n",
              "    .dataframe thead th {\n",
              "        text-align: right;\n",
              "    }\n",
              "</style>\n",
              "<table border=\"1\" class=\"dataframe\">\n",
              "  <thead>\n",
              "    <tr style=\"text-align: right;\">\n",
              "      <th></th>\n",
              "      <th>age</th>\n",
              "      <th>new_user</th>\n",
              "      <th>total_pages_visited</th>\n",
              "      <th>converted</th>\n",
              "      <th>country_China</th>\n",
              "      <th>country_Germany</th>\n",
              "      <th>country_UK</th>\n",
              "      <th>country_US</th>\n",
              "      <th>source_Ads</th>\n",
              "      <th>source_Direct</th>\n",
              "      <th>source_Seo</th>\n",
              "    </tr>\n",
              "  </thead>\n",
              "  <tbody>\n",
              "    <tr>\n",
              "      <th>0</th>\n",
              "      <td>25</td>\n",
              "      <td>1</td>\n",
              "      <td>1</td>\n",
              "      <td>0</td>\n",
              "      <td>0</td>\n",
              "      <td>0</td>\n",
              "      <td>1</td>\n",
              "      <td>0</td>\n",
              "      <td>1</td>\n",
              "      <td>0</td>\n",
              "      <td>0</td>\n",
              "    </tr>\n",
              "    <tr>\n",
              "      <th>1</th>\n",
              "      <td>23</td>\n",
              "      <td>1</td>\n",
              "      <td>5</td>\n",
              "      <td>0</td>\n",
              "      <td>0</td>\n",
              "      <td>0</td>\n",
              "      <td>0</td>\n",
              "      <td>1</td>\n",
              "      <td>0</td>\n",
              "      <td>0</td>\n",
              "      <td>1</td>\n",
              "    </tr>\n",
              "    <tr>\n",
              "      <th>2</th>\n",
              "      <td>28</td>\n",
              "      <td>1</td>\n",
              "      <td>4</td>\n",
              "      <td>0</td>\n",
              "      <td>0</td>\n",
              "      <td>0</td>\n",
              "      <td>0</td>\n",
              "      <td>1</td>\n",
              "      <td>0</td>\n",
              "      <td>0</td>\n",
              "      <td>1</td>\n",
              "    </tr>\n",
              "    <tr>\n",
              "      <th>3</th>\n",
              "      <td>39</td>\n",
              "      <td>1</td>\n",
              "      <td>5</td>\n",
              "      <td>0</td>\n",
              "      <td>1</td>\n",
              "      <td>0</td>\n",
              "      <td>0</td>\n",
              "      <td>0</td>\n",
              "      <td>0</td>\n",
              "      <td>0</td>\n",
              "      <td>1</td>\n",
              "    </tr>\n",
              "    <tr>\n",
              "      <th>4</th>\n",
              "      <td>30</td>\n",
              "      <td>1</td>\n",
              "      <td>6</td>\n",
              "      <td>0</td>\n",
              "      <td>0</td>\n",
              "      <td>0</td>\n",
              "      <td>0</td>\n",
              "      <td>1</td>\n",
              "      <td>0</td>\n",
              "      <td>0</td>\n",
              "      <td>1</td>\n",
              "    </tr>\n",
              "  </tbody>\n",
              "</table>\n",
              "</div>"
            ],
            "text/plain": [
              "   age new_user  total_pages_visited  ... source_Ads  source_Direct  source_Seo\n",
              "0   25        1                    1  ...          1              0           0\n",
              "1   23        1                    5  ...          0              0           1\n",
              "2   28        1                    4  ...          0              0           1\n",
              "3   39        1                    5  ...          0              0           1\n",
              "4   30        1                    6  ...          0              0           1\n",
              "\n",
              "[5 rows x 11 columns]"
            ]
          },
          "metadata": {
            "tags": []
          },
          "execution_count": 26
        }
      ]
    },
    {
      "cell_type": "code",
      "metadata": {
        "id": "FqilOS640UMX",
        "colab_type": "code",
        "colab": {}
      },
      "source": [
        "df2 = df2[[\"country_China\", \"country_Germany\", \"country_UK\", \"country_US\", \"age\", \"new_user\", \"source_Ads\", \"source_Direct\", \"source_Seo\", \"total_pages_visited\", \"converted\"]]"
      ],
      "execution_count": null,
      "outputs": []
    },
    {
      "cell_type": "code",
      "metadata": {
        "id": "U7RWz3Qk0WPb",
        "colab_type": "code",
        "colab": {
          "base_uri": "https://localhost:8080/",
          "height": 191
        },
        "outputId": "14a7381f-2788-4b8d-f5a7-787ffb2e49ca"
      },
      "source": [
        "df2.head()"
      ],
      "execution_count": null,
      "outputs": [
        {
          "output_type": "execute_result",
          "data": {
            "text/html": [
              "<div>\n",
              "<style scoped>\n",
              "    .dataframe tbody tr th:only-of-type {\n",
              "        vertical-align: middle;\n",
              "    }\n",
              "\n",
              "    .dataframe tbody tr th {\n",
              "        vertical-align: top;\n",
              "    }\n",
              "\n",
              "    .dataframe thead th {\n",
              "        text-align: right;\n",
              "    }\n",
              "</style>\n",
              "<table border=\"1\" class=\"dataframe\">\n",
              "  <thead>\n",
              "    <tr style=\"text-align: right;\">\n",
              "      <th></th>\n",
              "      <th>country_China</th>\n",
              "      <th>country_Germany</th>\n",
              "      <th>country_UK</th>\n",
              "      <th>country_US</th>\n",
              "      <th>age</th>\n",
              "      <th>new_user</th>\n",
              "      <th>source_Ads</th>\n",
              "      <th>source_Direct</th>\n",
              "      <th>source_Seo</th>\n",
              "      <th>total_pages_visited</th>\n",
              "      <th>converted</th>\n",
              "    </tr>\n",
              "  </thead>\n",
              "  <tbody>\n",
              "    <tr>\n",
              "      <th>0</th>\n",
              "      <td>0</td>\n",
              "      <td>0</td>\n",
              "      <td>1</td>\n",
              "      <td>0</td>\n",
              "      <td>25</td>\n",
              "      <td>1</td>\n",
              "      <td>1</td>\n",
              "      <td>0</td>\n",
              "      <td>0</td>\n",
              "      <td>1</td>\n",
              "      <td>0</td>\n",
              "    </tr>\n",
              "    <tr>\n",
              "      <th>1</th>\n",
              "      <td>0</td>\n",
              "      <td>0</td>\n",
              "      <td>0</td>\n",
              "      <td>1</td>\n",
              "      <td>23</td>\n",
              "      <td>1</td>\n",
              "      <td>0</td>\n",
              "      <td>0</td>\n",
              "      <td>1</td>\n",
              "      <td>5</td>\n",
              "      <td>0</td>\n",
              "    </tr>\n",
              "    <tr>\n",
              "      <th>2</th>\n",
              "      <td>0</td>\n",
              "      <td>0</td>\n",
              "      <td>0</td>\n",
              "      <td>1</td>\n",
              "      <td>28</td>\n",
              "      <td>1</td>\n",
              "      <td>0</td>\n",
              "      <td>0</td>\n",
              "      <td>1</td>\n",
              "      <td>4</td>\n",
              "      <td>0</td>\n",
              "    </tr>\n",
              "    <tr>\n",
              "      <th>3</th>\n",
              "      <td>1</td>\n",
              "      <td>0</td>\n",
              "      <td>0</td>\n",
              "      <td>0</td>\n",
              "      <td>39</td>\n",
              "      <td>1</td>\n",
              "      <td>0</td>\n",
              "      <td>0</td>\n",
              "      <td>1</td>\n",
              "      <td>5</td>\n",
              "      <td>0</td>\n",
              "    </tr>\n",
              "    <tr>\n",
              "      <th>4</th>\n",
              "      <td>0</td>\n",
              "      <td>0</td>\n",
              "      <td>0</td>\n",
              "      <td>1</td>\n",
              "      <td>30</td>\n",
              "      <td>1</td>\n",
              "      <td>0</td>\n",
              "      <td>0</td>\n",
              "      <td>1</td>\n",
              "      <td>6</td>\n",
              "      <td>0</td>\n",
              "    </tr>\n",
              "  </tbody>\n",
              "</table>\n",
              "</div>"
            ],
            "text/plain": [
              "   country_China  country_Germany  ...  total_pages_visited  converted\n",
              "0              0                0  ...                    1          0\n",
              "1              0                0  ...                    5          0\n",
              "2              0                0  ...                    4          0\n",
              "3              1                0  ...                    5          0\n",
              "4              0                0  ...                    6          0\n",
              "\n",
              "[5 rows x 11 columns]"
            ]
          },
          "metadata": {
            "tags": []
          },
          "execution_count": 28
        }
      ]
    },
    {
      "cell_type": "markdown",
      "metadata": {
        "id": "HNhNMUWK0e3u",
        "colab_type": "text"
      },
      "source": [
        "# **Splitting, oversampling and scaling**"
      ]
    },
    {
      "cell_type": "code",
      "metadata": {
        "id": "GldbUowu0eVK",
        "colab_type": "code",
        "colab": {}
      },
      "source": [
        "X = pd.DataFrame(df2.iloc[:,:-1])\n",
        "y = pd.DataFrame(df2.iloc[:,-1:])"
      ],
      "execution_count": null,
      "outputs": []
    },
    {
      "cell_type": "code",
      "metadata": {
        "id": "7A5yOOW_0wVs",
        "colab_type": "code",
        "colab": {}
      },
      "source": [
        "from sklearn.utils import resample\n",
        "from sklearn.model_selection import train_test_split\n",
        "\n",
        "X_train, X_test, y_train, y_test = train_test_split(X, y, stratify=y, test_size=0.2, random_state=42)"
      ],
      "execution_count": null,
      "outputs": []
    },
    {
      "cell_type": "code",
      "metadata": {
        "id": "q8t7c_pe1Okw",
        "colab_type": "code",
        "colab": {
          "base_uri": "https://localhost:8080/",
          "height": 50
        },
        "outputId": "ea65540e-78c6-4beb-fc60-b694ea83eacc"
      },
      "source": [
        "X_reshape = pd.concat([X_train, y_train], axis=1)\n",
        "\n",
        "converted=X_reshape[X_reshape['converted']==1]\n",
        "not_converted=X_reshape[X_reshape['converted']==0]\n",
        "\n",
        "converted_upsampled = resample(converted,\n",
        "                          replace=True, # sample with replacement\n",
        "                          n_samples=len(not_converted), # match number in majority class\n",
        "                          random_state=27) # reproducible results\n",
        "\n",
        "upsampled = pd.concat([not_converted, converted_upsampled])\n",
        "\n",
        "data_cond=(upsampled['converted']==1)\n",
        "\n",
        "data=upsampled[data_cond]\n",
        "\n",
        "print(len(data))\n",
        "print(len(upsampled))\n",
        "X_train=pd.DataFrame(upsampled.iloc[:,:-1])\n",
        "y_train=pd.DataFrame(upsampled.iloc[:,-1])"
      ],
      "execution_count": null,
      "outputs": [
        {
          "output_type": "stream",
          "text": [
            "243881\n",
            "487762\n"
          ],
          "name": "stdout"
        }
      ]
    },
    {
      "cell_type": "code",
      "metadata": {
        "id": "dCiJKD6R2tDS",
        "colab_type": "code",
        "colab": {
          "base_uri": "https://localhost:8080/",
          "height": 191
        },
        "outputId": "62a0d6c2-42ef-4e68-d85b-0530a16b4eea"
      },
      "source": [
        "X_train.head()"
      ],
      "execution_count": null,
      "outputs": [
        {
          "output_type": "execute_result",
          "data": {
            "text/html": [
              "<div>\n",
              "<style scoped>\n",
              "    .dataframe tbody tr th:only-of-type {\n",
              "        vertical-align: middle;\n",
              "    }\n",
              "\n",
              "    .dataframe tbody tr th {\n",
              "        vertical-align: top;\n",
              "    }\n",
              "\n",
              "    .dataframe thead th {\n",
              "        text-align: right;\n",
              "    }\n",
              "</style>\n",
              "<table border=\"1\" class=\"dataframe\">\n",
              "  <thead>\n",
              "    <tr style=\"text-align: right;\">\n",
              "      <th></th>\n",
              "      <th>country_China</th>\n",
              "      <th>country_Germany</th>\n",
              "      <th>country_UK</th>\n",
              "      <th>country_US</th>\n",
              "      <th>age</th>\n",
              "      <th>new_user</th>\n",
              "      <th>source_Ads</th>\n",
              "      <th>source_Direct</th>\n",
              "      <th>source_Seo</th>\n",
              "      <th>total_pages_visited</th>\n",
              "    </tr>\n",
              "  </thead>\n",
              "  <tbody>\n",
              "    <tr>\n",
              "      <th>19936</th>\n",
              "      <td>0</td>\n",
              "      <td>0</td>\n",
              "      <td>0</td>\n",
              "      <td>1</td>\n",
              "      <td>22</td>\n",
              "      <td>1</td>\n",
              "      <td>0</td>\n",
              "      <td>1</td>\n",
              "      <td>0</td>\n",
              "      <td>9</td>\n",
              "    </tr>\n",
              "    <tr>\n",
              "      <th>137903</th>\n",
              "      <td>0</td>\n",
              "      <td>0</td>\n",
              "      <td>0</td>\n",
              "      <td>1</td>\n",
              "      <td>35</td>\n",
              "      <td>1</td>\n",
              "      <td>0</td>\n",
              "      <td>1</td>\n",
              "      <td>0</td>\n",
              "      <td>11</td>\n",
              "    </tr>\n",
              "    <tr>\n",
              "      <th>246627</th>\n",
              "      <td>0</td>\n",
              "      <td>0</td>\n",
              "      <td>0</td>\n",
              "      <td>1</td>\n",
              "      <td>30</td>\n",
              "      <td>1</td>\n",
              "      <td>1</td>\n",
              "      <td>0</td>\n",
              "      <td>0</td>\n",
              "      <td>1</td>\n",
              "    </tr>\n",
              "    <tr>\n",
              "      <th>163509</th>\n",
              "      <td>0</td>\n",
              "      <td>0</td>\n",
              "      <td>0</td>\n",
              "      <td>1</td>\n",
              "      <td>38</td>\n",
              "      <td>1</td>\n",
              "      <td>0</td>\n",
              "      <td>0</td>\n",
              "      <td>1</td>\n",
              "      <td>3</td>\n",
              "    </tr>\n",
              "    <tr>\n",
              "      <th>66624</th>\n",
              "      <td>0</td>\n",
              "      <td>0</td>\n",
              "      <td>0</td>\n",
              "      <td>1</td>\n",
              "      <td>22</td>\n",
              "      <td>1</td>\n",
              "      <td>0</td>\n",
              "      <td>0</td>\n",
              "      <td>1</td>\n",
              "      <td>6</td>\n",
              "    </tr>\n",
              "  </tbody>\n",
              "</table>\n",
              "</div>"
            ],
            "text/plain": [
              "        country_China  country_Germany  ...  source_Seo  total_pages_visited\n",
              "19936               0                0  ...           0                    9\n",
              "137903              0                0  ...           0                   11\n",
              "246627              0                0  ...           0                    1\n",
              "163509              0                0  ...           1                    3\n",
              "66624               0                0  ...           1                    6\n",
              "\n",
              "[5 rows x 10 columns]"
            ]
          },
          "metadata": {
            "tags": []
          },
          "execution_count": 32
        }
      ]
    },
    {
      "cell_type": "code",
      "metadata": {
        "id": "gd7jEAtM1oZM",
        "colab_type": "code",
        "colab": {
          "base_uri": "https://localhost:8080/",
          "height": 33
        },
        "outputId": "2e096d2f-ec18-4c84-93da-48faeceee527"
      },
      "source": [
        "X_train.shape"
      ],
      "execution_count": null,
      "outputs": [
        {
          "output_type": "execute_result",
          "data": {
            "text/plain": [
              "(487762, 10)"
            ]
          },
          "metadata": {
            "tags": []
          },
          "execution_count": 33
        }
      ]
    },
    {
      "cell_type": "code",
      "metadata": {
        "id": "1n4zPsfG1s4p",
        "colab_type": "code",
        "colab": {
          "base_uri": "https://localhost:8080/",
          "height": 33
        },
        "outputId": "2282c256-f018-4581-bf01-b32464919400"
      },
      "source": [
        "y_train.shape"
      ],
      "execution_count": null,
      "outputs": [
        {
          "output_type": "execute_result",
          "data": {
            "text/plain": [
              "(487762, 1)"
            ]
          },
          "metadata": {
            "tags": []
          },
          "execution_count": 34
        }
      ]
    },
    {
      "cell_type": "code",
      "metadata": {
        "id": "fRvbcUB91vdj",
        "colab_type": "code",
        "colab": {
          "base_uri": "https://localhost:8080/",
          "height": 66
        },
        "outputId": "4998950c-4dfd-4de1-bf41-e56bb5b06d00"
      },
      "source": [
        "y_train[\"converted\"].value_counts()"
      ],
      "execution_count": null,
      "outputs": [
        {
          "output_type": "execute_result",
          "data": {
            "text/plain": [
              "1    243881\n",
              "0    243881\n",
              "Name: converted, dtype: int64"
            ]
          },
          "metadata": {
            "tags": []
          },
          "execution_count": 35
        }
      ]
    },
    {
      "cell_type": "code",
      "metadata": {
        "id": "3_KpBxUO3nCn",
        "colab_type": "code",
        "colab": {}
      },
      "source": [
        "from sklearn.preprocessing import StandardScaler\n",
        "sc = StandardScaler()\n",
        "X_train = sc.fit_transform(X_train)\n",
        "X_test = sc.transform(X_test)"
      ],
      "execution_count": null,
      "outputs": []
    },
    {
      "cell_type": "markdown",
      "metadata": {
        "id": "sqUETcNL4q-2",
        "colab_type": "text"
      },
      "source": [
        "# **Model training 1 Regression Logistique**"
      ]
    },
    {
      "cell_type": "code",
      "metadata": {
        "id": "BJVWhj5G4rr4",
        "colab_type": "code",
        "colab": {
          "base_uri": "https://localhost:8080/",
          "height": 151
        },
        "outputId": "04ca622f-c387-4a5c-f743-cbe8c125edbe"
      },
      "source": [
        "from sklearn.linear_model import LogisticRegression\n",
        "\n",
        "logreg = LogisticRegression()\n",
        "\n",
        "logreg.fit(X_train, y_train)"
      ],
      "execution_count": null,
      "outputs": [
        {
          "output_type": "stream",
          "text": [
            "/usr/local/lib/python3.6/dist-packages/sklearn/utils/validation.py:760: DataConversionWarning: A column-vector y was passed when a 1d array was expected. Please change the shape of y to (n_samples, ), for example using ravel().\n",
            "  y = column_or_1d(y, warn=True)\n"
          ],
          "name": "stderr"
        },
        {
          "output_type": "execute_result",
          "data": {
            "text/plain": [
              "LogisticRegression(C=1.0, class_weight=None, dual=False, fit_intercept=True,\n",
              "                   intercept_scaling=1, l1_ratio=None, max_iter=100,\n",
              "                   multi_class='auto', n_jobs=None, penalty='l2',\n",
              "                   random_state=None, solver='lbfgs', tol=0.0001, verbose=0,\n",
              "                   warm_start=False)"
            ]
          },
          "metadata": {
            "tags": []
          },
          "execution_count": 37
        }
      ]
    },
    {
      "cell_type": "code",
      "metadata": {
        "id": "4VnwKCk05MOk",
        "colab_type": "code",
        "colab": {
          "base_uri": "https://localhost:8080/",
          "height": 33
        },
        "outputId": "b52d541b-2902-49a3-af91-d8b86ac000fd"
      },
      "source": [
        "logreg.score(X_train, y_train)"
      ],
      "execution_count": null,
      "outputs": [
        {
          "output_type": "execute_result",
          "data": {
            "text/plain": [
              "0.9409958135320095"
            ]
          },
          "metadata": {
            "tags": []
          },
          "execution_count": 38
        }
      ]
    },
    {
      "cell_type": "code",
      "metadata": {
        "id": "n6Gg36Bb5Oxv",
        "colab_type": "code",
        "colab": {
          "base_uri": "https://localhost:8080/",
          "height": 33
        },
        "outputId": "e67fa528-fc61-4449-ed8f-e1939d381a88"
      },
      "source": [
        "logreg.score(X_test, y_test)"
      ],
      "execution_count": null,
      "outputs": [
        {
          "output_type": "execute_result",
          "data": {
            "text/plain": [
              "0.9428176927105651"
            ]
          },
          "metadata": {
            "tags": []
          },
          "execution_count": 39
        }
      ]
    },
    {
      "cell_type": "code",
      "metadata": {
        "id": "kdnZiEtI5eBs",
        "colab_type": "code",
        "colab": {}
      },
      "source": [
        "y_pred=logreg.predict(X_test)"
      ],
      "execution_count": null,
      "outputs": []
    },
    {
      "cell_type": "code",
      "metadata": {
        "id": "65jQADX25iLz",
        "colab_type": "code",
        "colab": {
          "base_uri": "https://localhost:8080/",
          "height": 482
        },
        "outputId": "1704725f-46b1-4770-8298-40414e19a8ad"
      },
      "source": [
        "print(classification_report(y_test,y_pred))\n",
        "\n",
        "cm = confusion_matrix(y_test, y_pred)\n",
        "plt.figure(figsize=(10, 5))\n",
        "sns.heatmap(cm, annot=True, fmt=\"d\")"
      ],
      "execution_count": null,
      "outputs": [
        {
          "output_type": "stream",
          "text": [
            "              precision    recall  f1-score   support\n",
            "\n",
            "           0       1.00      0.94      0.97     60970\n",
            "           1       0.35      0.93      0.51      2039\n",
            "\n",
            "    accuracy                           0.94     63009\n",
            "   macro avg       0.68      0.94      0.74     63009\n",
            "weighted avg       0.98      0.94      0.95     63009\n",
            "\n"
          ],
          "name": "stdout"
        },
        {
          "output_type": "execute_result",
          "data": {
            "text/plain": [
              "<matplotlib.axes._subplots.AxesSubplot at 0x7fb4a81df908>"
            ]
          },
          "metadata": {
            "tags": []
          },
          "execution_count": 41
        },
        {
          "output_type": "display_data",
          "data": {
            "image/png": "[encoded data removed]",
            "text/plain": [
              "<Figure size 720x360 with 2 Axes>"
            ]
          },
          "metadata": {
            "tags": [],
            "needs_background": "light"
          }
        }
      ]
    },
    {
      "cell_type": "markdown",
      "metadata": {
        "id": "y7R8bgyJ5umZ",
        "colab_type": "text"
      },
      "source": [
        "# **Model training 2 Decision Tree**"
      ]
    },
    {
      "cell_type": "code",
      "metadata": {
        "id": "iR0A1myX5rz0",
        "colab_type": "code",
        "colab": {}
      },
      "source": [
        "from sklearn.tree import DecisionTreeClassifier\n",
        "clf = DecisionTreeClassifier(class_weight=None, criterion='gini', max_depth=5,\n",
        "            max_features=None, max_leaf_nodes=None,\n",
        "            min_impurity_decrease=0.0, min_impurity_split=None,\n",
        "            min_samples_leaf=1, min_samples_split=2,\n",
        "            min_weight_fraction_leaf=0.0, presort=False, random_state=42,\n",
        "            splitter='best')"
      ],
      "execution_count": null,
      "outputs": []
    },
    {
      "cell_type": "code",
      "metadata": {
        "id": "WZlWkcKo9aTp",
        "colab_type": "code",
        "colab": {
          "base_uri": "https://localhost:8080/",
          "height": 70
        },
        "outputId": "262d7ed6-bef5-4d2c-8ea9-1ba3dbd9fa4c"
      },
      "source": [
        "clf = clf.fit(X_train,y_train)"
      ],
      "execution_count": null,
      "outputs": [
        {
          "output_type": "stream",
          "text": [
            "/usr/local/lib/python3.6/dist-packages/sklearn/tree/_classes.py:319: FutureWarning: The parameter 'presort' is deprecated and has no effect. It will be removed in v0.24. You can suppress this warning by not passing any value to the 'presort' parameter.\n",
            "  FutureWarning)\n"
          ],
          "name": "stderr"
        }
      ]
    },
    {
      "cell_type": "code",
      "metadata": {
        "id": "yZgKO5Be9ek6",
        "colab_type": "code",
        "colab": {
          "base_uri": "https://localhost:8080/",
          "height": 33
        },
        "outputId": "30d1bae6-3c3d-466d-f8c5-1165ed3cff39"
      },
      "source": [
        "clf.score(X_train,y_train)"
      ],
      "execution_count": null,
      "outputs": [
        {
          "output_type": "execute_result",
          "data": {
            "text/plain": [
              "0.9383859341236095"
            ]
          },
          "metadata": {
            "tags": []
          },
          "execution_count": 44
        }
      ]
    },
    {
      "cell_type": "code",
      "metadata": {
        "id": "1-IG5yCh9hAu",
        "colab_type": "code",
        "colab": {
          "base_uri": "https://localhost:8080/",
          "height": 33
        },
        "outputId": "1a31fbfc-8f8a-41f7-8f6c-79314ab1304b"
      },
      "source": [
        "clf.score(X_test,y_test)"
      ],
      "execution_count": null,
      "outputs": [
        {
          "output_type": "execute_result",
          "data": {
            "text/plain": [
              "0.9295180053643131"
            ]
          },
          "metadata": {
            "tags": []
          },
          "execution_count": 45
        }
      ]
    },
    {
      "cell_type": "code",
      "metadata": {
        "id": "igX0GGqU57oz",
        "colab_type": "code",
        "colab": {
          "base_uri": "https://localhost:8080/",
          "height": 815
        },
        "outputId": "bfff523f-9a21-49b1-fb2a-04279472e4b1"
      },
      "source": [
        "dot_data = export_graphviz(clf, out_file=None, feature_names= X.columns)\n",
        "graph = graphviz.Source(dot_data)\n",
        "graph"
      ],
      "execution_count": null,
      "outputs": [
        {
          "output_type": "execute_result",
          "data": {
            "text/plain": [
              "<graphviz.files.Source at 0x7fb4a814ae48>"
            ],
            "image/svg+xml": "<?xml version=\"1.0\" encoding=\"UTF-8\" standalone=\"no\"?>\n<!DOCTYPE svg PUBLIC \"-//W3C//DTD SVG 1.1//EN\"\n \"http://www.w3.org/Graphics/SVG/1.1/DTD/svg11.dtd\">\n<!-- Generated by graphviz version 2.40.1 (20161225.0304)\n -->\n<!-- Title: Tree Pages: 1 -->\n<svg width=\"4829pt\" height=\"581pt\"\n viewBox=\"0.00 0.00 4829.00 581.00\" xmlns=\"http://www.w3.org/2000/svg\" xmlns:xlink=\"http://www.w3.org/1999/xlink\">\n<g id=\"graph0\" class=\"graph\" transform=\"scale(1 1) rotate(0) translate(4 577)\">\n<title>Tree</title>\n<polygon fill=\"#ffffff\" stroke=\"transparent\" points=\"-4,4 -4,-577 4825,-577 4825,4 -4,4\"/>\n<!-- 0 -->\n<g id=\"node1\" class=\"node\">\n<title>0</title>\n<polygon fill=\"none\" stroke=\"#000000\" points=\"2787.5,-573 2599.5,-573 2599.5,-505 2787.5,-505 2787.5,-573\"/>\n<text text-anchor=\"middle\" x=\"2693.5\" y=\"-557.8\" font-family=\"Times,serif\" font-size=\"14.00\" fill=\"#000000\">total_pages_visited &lt;= &#45;0.175</text>\n<text text-anchor=\"middle\" x=\"2693.5\" y=\"-542.8\" font-family=\"Times,serif\" font-size=\"14.00\" fill=\"#000000\">gini = 0.5</text>\n<text text-anchor=\"middle\" x=\"2693.5\" y=\"-527.8\" font-family=\"Times,serif\" font-size=\"14.00\" fill=\"#000000\">samples = 487762</text>\n<text text-anchor=\"middle\" x=\"2693.5\" y=\"-512.8\" font-family=\"Times,serif\" font-size=\"14.00\" fill=\"#000000\">value = [243881, 243881]</text>\n</g>\n<!-- 1 -->\n<g id=\"node2\" class=\"node\">\n<title>1</title>\n<polygon fill=\"none\" stroke=\"#000000\" points=\"1987.5,-469 1799.5,-469 1799.5,-401 1987.5,-401 1987.5,-469\"/>\n<text text-anchor=\"middle\" x=\"1893.5\" y=\"-453.8\" font-family=\"Times,serif\" font-size=\"14.00\" fill=\"#000000\">total_pages_visited &lt;= &#45;0.504</text>\n<text text-anchor=\"middle\" x=\"1893.5\" y=\"-438.8\" font-family=\"Times,serif\" font-size=\"14.00\" fill=\"#000000\">gini = 0.117</text>\n<text text-anchor=\"middle\" x=\"1893.5\" y=\"-423.8\" font-family=\"Times,serif\" font-size=\"14.00\" fill=\"#000000\">samples = 234988</text>\n<text text-anchor=\"middle\" x=\"1893.5\" y=\"-408.8\" font-family=\"Times,serif\" font-size=\"14.00\" fill=\"#000000\">value = [220306, 14682]</text>\n</g>\n<!-- 0&#45;&gt;1 -->\n<g id=\"edge1\" class=\"edge\">\n<title>0&#45;&gt;1</title>\n<path fill=\"none\" stroke=\"#000000\" d=\"M2599.3774,-526.7641C2448.7266,-507.1795 2154.4903,-468.9287 1997.6996,-448.5459\"/>\n<polygon fill=\"#000000\" stroke=\"#000000\" points=\"1997.9416,-445.048 1987.5738,-447.2296 1997.0391,-451.9896 1997.9416,-445.048\"/>\n<text text-anchor=\"middle\" x=\"2002.825\" y=\"-463.3387\" font-family=\"Times,serif\" font-size=\"14.00\" fill=\"#000000\">True</text>\n</g>\n<!-- 32 -->\n<g id=\"node33\" class=\"node\">\n<title>32</title>\n<polygon fill=\"none\" stroke=\"#000000\" points=\"3065.5,-469 2881.5,-469 2881.5,-401 3065.5,-401 3065.5,-469\"/>\n<text text-anchor=\"middle\" x=\"2973.5\" y=\"-453.8\" font-family=\"Times,serif\" font-size=\"14.00\" fill=\"#000000\">total_pages_visited &lt;= 0.155</text>\n<text text-anchor=\"middle\" x=\"2973.5\" y=\"-438.8\" font-family=\"Times,serif\" font-size=\"14.00\" fill=\"#000000\">gini = 0.169</text>\n<text text-anchor=\"middle\" x=\"2973.5\" y=\"-423.8\" font-family=\"Times,serif\" font-size=\"14.00\" fill=\"#000000\">samples = 252774</text>\n<text text-anchor=\"middle\" x=\"2973.5\" y=\"-408.8\" font-family=\"Times,serif\" font-size=\"14.00\" fill=\"#000000\">value = [23575, 229199]</text>\n</g>\n<!-- 0&#45;&gt;32 -->\n<g id=\"edge32\" class=\"edge\">\n<title>0&#45;&gt;32</title>\n<path fill=\"none\" stroke=\"#000000\" d=\"M2785.1825,-504.9465C2812.9814,-494.6212 2843.6773,-483.2199 2872.0762,-472.6717\"/>\n<polygon fill=\"#000000\" stroke=\"#000000\" points=\"2873.456,-475.8929 2881.6115,-469.13 2871.0186,-469.3309 2873.456,-475.8929\"/>\n<text text-anchor=\"middle\" x=\"2871.1952\" y=\"-488.1566\" font-family=\"Times,serif\" font-size=\"14.00\" fill=\"#000000\">False</text>\n</g>\n<!-- 2 -->\n<g id=\"node3\" class=\"node\">\n<title>2</title>\n<polygon fill=\"none\" stroke=\"#000000\" points=\"1024.5,-365 836.5,-365 836.5,-297 1024.5,-297 1024.5,-365\"/>\n<text text-anchor=\"middle\" x=\"930.5\" y=\"-349.8\" font-family=\"Times,serif\" font-size=\"14.00\" fill=\"#000000\">total_pages_visited &lt;= &#45;0.834</text>\n<text text-anchor=\"middle\" x=\"930.5\" y=\"-334.8\" font-family=\"Times,serif\" font-size=\"14.00\" fill=\"#000000\">gini = 0.049</text>\n<text text-anchor=\"middle\" x=\"930.5\" y=\"-319.8\" font-family=\"Times,serif\" font-size=\"14.00\" fill=\"#000000\">samples = 192969</text>\n<text text-anchor=\"middle\" x=\"930.5\" y=\"-304.8\" font-family=\"Times,serif\" font-size=\"14.00\" fill=\"#000000\">value = [188081, 4888]</text>\n</g>\n<!-- 1&#45;&gt;2 -->\n<g id=\"edge2\" class=\"edge\">\n<title>1&#45;&gt;2</title>\n<path fill=\"none\" stroke=\"#000000\" d=\"M1799.4101,-424.8387C1618.5168,-405.303 1223.4688,-362.6394 1034.8172,-342.2658\"/>\n<polygon fill=\"#000000\" stroke=\"#000000\" points=\"1034.9345,-338.7582 1024.6165,-341.1642 1034.1829,-345.7178 1034.9345,-338.7582\"/>\n</g>\n<!-- 17 -->\n<g id=\"node18\" class=\"node\">\n<title>17</title>\n<polygon fill=\"none\" stroke=\"#000000\" points=\"1967,-365 1820,-365 1820,-297 1967,-297 1967,-365\"/>\n<text text-anchor=\"middle\" x=\"1893.5\" y=\"-349.8\" font-family=\"Times,serif\" font-size=\"14.00\" fill=\"#000000\">new_user &lt;= 0.006</text>\n<text text-anchor=\"middle\" x=\"1893.5\" y=\"-334.8\" font-family=\"Times,serif\" font-size=\"14.00\" fill=\"#000000\">gini = 0.358</text>\n<text text-anchor=\"middle\" x=\"1893.5\" y=\"-319.8\" font-family=\"Times,serif\" font-size=\"14.00\" fill=\"#000000\">samples = 42019</text>\n<text text-anchor=\"middle\" x=\"1893.5\" y=\"-304.8\" font-family=\"Times,serif\" font-size=\"14.00\" fill=\"#000000\">value = [32225, 9794]</text>\n</g>\n<!-- 1&#45;&gt;17 -->\n<g id=\"edge17\" class=\"edge\">\n<title>1&#45;&gt;17</title>\n<path fill=\"none\" stroke=\"#000000\" d=\"M1893.5,-400.9465C1893.5,-392.776 1893.5,-383.9318 1893.5,-375.3697\"/>\n<polygon fill=\"#000000\" stroke=\"#000000\" points=\"1897.0001,-375.13 1893.5,-365.13 1890.0001,-375.13 1897.0001,-375.13\"/>\n</g>\n<!-- 3 -->\n<g id=\"node4\" class=\"node\">\n<title>3</title>\n<polygon fill=\"none\" stroke=\"#000000\" points=\"566.5,-261 378.5,-261 378.5,-193 566.5,-193 566.5,-261\"/>\n<text text-anchor=\"middle\" x=\"472.5\" y=\"-245.8\" font-family=\"Times,serif\" font-size=\"14.00\" fill=\"#000000\">total_pages_visited &lt;= &#45;0.999</text>\n<text text-anchor=\"middle\" x=\"472.5\" y=\"-230.8\" font-family=\"Times,serif\" font-size=\"14.00\" fill=\"#000000\">gini = 0.017</text>\n<text text-anchor=\"middle\" x=\"472.5\" y=\"-215.8\" font-family=\"Times,serif\" font-size=\"14.00\" fill=\"#000000\">samples = 136270</text>\n<text text-anchor=\"middle\" x=\"472.5\" y=\"-200.8\" font-family=\"Times,serif\" font-size=\"14.00\" fill=\"#000000\">value = [135126, 1144]</text>\n</g>\n<!-- 2&#45;&gt;3 -->\n<g id=\"edge3\" class=\"edge\">\n<title>2&#45;&gt;3</title>\n<path fill=\"none\" stroke=\"#000000\" d=\"M836.4347,-309.6402C760.8693,-292.4812 654.8331,-268.4031 576.7017,-250.6615\"/>\n<polygon fill=\"#000000\" stroke=\"#000000\" points=\"577.3612,-247.2223 566.8344,-248.4209 575.8111,-254.0485 577.3612,-247.2223\"/>\n</g>\n<!-- 10 -->\n<g id=\"node11\" class=\"node\">\n<title>10</title>\n<polygon fill=\"none\" stroke=\"#000000\" points=\"1004,-261 857,-261 857,-193 1004,-193 1004,-261\"/>\n<text text-anchor=\"middle\" x=\"930.5\" y=\"-245.8\" font-family=\"Times,serif\" font-size=\"14.00\" fill=\"#000000\">new_user &lt;= 0.006</text>\n<text text-anchor=\"middle\" x=\"930.5\" y=\"-230.8\" font-family=\"Times,serif\" font-size=\"14.00\" fill=\"#000000\">gini = 0.123</text>\n<text text-anchor=\"middle\" x=\"930.5\" y=\"-215.8\" font-family=\"Times,serif\" font-size=\"14.00\" fill=\"#000000\">samples = 56699</text>\n<text text-anchor=\"middle\" x=\"930.5\" y=\"-200.8\" font-family=\"Times,serif\" font-size=\"14.00\" fill=\"#000000\">value = [52955, 3744]</text>\n</g>\n<!-- 2&#45;&gt;10 -->\n<g id=\"edge10\" class=\"edge\">\n<title>2&#45;&gt;10</title>\n<path fill=\"none\" stroke=\"#000000\" d=\"M930.5,-296.9465C930.5,-288.776 930.5,-279.9318 930.5,-271.3697\"/>\n<polygon fill=\"#000000\" stroke=\"#000000\" points=\"934.0001,-271.13 930.5,-261.13 927.0001,-271.13 934.0001,-271.13\"/>\n</g>\n<!-- 4 -->\n<g id=\"node5\" class=\"node\">\n<title>4</title>\n<polygon fill=\"none\" stroke=\"#000000\" points=\"321.5,-157 133.5,-157 133.5,-89 321.5,-89 321.5,-157\"/>\n<text text-anchor=\"middle\" x=\"227.5\" y=\"-141.8\" font-family=\"Times,serif\" font-size=\"14.00\" fill=\"#000000\">total_pages_visited &lt;= &#45;1.164</text>\n<text text-anchor=\"middle\" x=\"227.5\" y=\"-126.8\" font-family=\"Times,serif\" font-size=\"14.00\" fill=\"#000000\">gini = 0.007</text>\n<text text-anchor=\"middle\" x=\"227.5\" y=\"-111.8\" font-family=\"Times,serif\" font-size=\"14.00\" fill=\"#000000\">samples = 102815</text>\n<text text-anchor=\"middle\" x=\"227.5\" y=\"-96.8\" font-family=\"Times,serif\" font-size=\"14.00\" fill=\"#000000\">value = [102447, 368]</text>\n</g>\n<!-- 3&#45;&gt;4 -->\n<g id=\"edge4\" class=\"edge\">\n<title>3&#45;&gt;4</title>\n<path fill=\"none\" stroke=\"#000000\" d=\"M392.2778,-192.9465C368.271,-182.7559 341.7951,-171.5171 317.2192,-161.0849\"/>\n<polygon fill=\"#000000\" stroke=\"#000000\" points=\"318.475,-157.8157 307.9024,-157.13 315.7398,-164.2592 318.475,-157.8157\"/>\n</g>\n<!-- 7 -->\n<g id=\"node8\" class=\"node\">\n<title>7</title>\n<polygon fill=\"none\" stroke=\"#000000\" points=\"542.5,-157 402.5,-157 402.5,-89 542.5,-89 542.5,-157\"/>\n<text text-anchor=\"middle\" x=\"472.5\" y=\"-141.8\" font-family=\"Times,serif\" font-size=\"14.00\" fill=\"#000000\">new_user &lt;= 0.006</text>\n<text text-anchor=\"middle\" x=\"472.5\" y=\"-126.8\" font-family=\"Times,serif\" font-size=\"14.00\" fill=\"#000000\">gini = 0.045</text>\n<text text-anchor=\"middle\" x=\"472.5\" y=\"-111.8\" font-family=\"Times,serif\" font-size=\"14.00\" fill=\"#000000\">samples = 33455</text>\n<text text-anchor=\"middle\" x=\"472.5\" y=\"-96.8\" font-family=\"Times,serif\" font-size=\"14.00\" fill=\"#000000\">value = [32679, 776]</text>\n</g>\n<!-- 3&#45;&gt;7 -->\n<g id=\"edge7\" class=\"edge\">\n<title>3&#45;&gt;7</title>\n<path fill=\"none\" stroke=\"#000000\" d=\"M472.5,-192.9465C472.5,-184.776 472.5,-175.9318 472.5,-167.3697\"/>\n<polygon fill=\"#000000\" stroke=\"#000000\" points=\"476.0001,-167.13 472.5,-157.13 469.0001,-167.13 476.0001,-167.13\"/>\n</g>\n<!-- 5 -->\n<g id=\"node6\" class=\"node\">\n<title>5</title>\n<polygon fill=\"none\" stroke=\"#000000\" points=\"139,-53 0,-53 0,0 139,0 139,-53\"/>\n<text text-anchor=\"middle\" x=\"69.5\" y=\"-37.8\" font-family=\"Times,serif\" font-size=\"14.00\" fill=\"#000000\">gini = 0.003</text>\n<text text-anchor=\"middle\" x=\"69.5\" y=\"-22.8\" font-family=\"Times,serif\" font-size=\"14.00\" fill=\"#000000\">samples = 67657</text>\n<text text-anchor=\"middle\" x=\"69.5\" y=\"-7.8\" font-family=\"Times,serif\" font-size=\"14.00\" fill=\"#000000\">value = [67540, 117]</text>\n</g>\n<!-- 4&#45;&gt;5 -->\n<g id=\"edge5\" class=\"edge\">\n<title>4&#45;&gt;5</title>\n<path fill=\"none\" stroke=\"#000000\" d=\"M171.7951,-88.9777C155.528,-79.0424 137.8136,-68.2232 121.7674,-58.4228\"/>\n<polygon fill=\"#000000\" stroke=\"#000000\" points=\"123.4027,-55.3204 113.0442,-53.095 119.754,-61.2943 123.4027,-55.3204\"/>\n</g>\n<!-- 6 -->\n<g id=\"node7\" class=\"node\">\n<title>6</title>\n<polygon fill=\"none\" stroke=\"#000000\" points=\"297.5,-53 157.5,-53 157.5,0 297.5,0 297.5,-53\"/>\n<text text-anchor=\"middle\" x=\"227.5\" y=\"-37.8\" font-family=\"Times,serif\" font-size=\"14.00\" fill=\"#000000\">gini = 0.014</text>\n<text text-anchor=\"middle\" x=\"227.5\" y=\"-22.8\" font-family=\"Times,serif\" font-size=\"14.00\" fill=\"#000000\">samples = 35158</text>\n<text text-anchor=\"middle\" x=\"227.5\" y=\"-7.8\" font-family=\"Times,serif\" font-size=\"14.00\" fill=\"#000000\">value = [34907, 251]</text>\n</g>\n<!-- 4&#45;&gt;6 -->\n<g id=\"edge6\" class=\"edge\">\n<title>4&#45;&gt;6</title>\n<path fill=\"none\" stroke=\"#000000\" d=\"M227.5,-88.9777C227.5,-80.7364 227.5,-71.887 227.5,-63.5153\"/>\n<polygon fill=\"#000000\" stroke=\"#000000\" points=\"231.0001,-63.2484 227.5,-53.2485 224.0001,-63.2485 231.0001,-63.2484\"/>\n</g>\n<!-- 8 -->\n<g id=\"node9\" class=\"node\">\n<title>8</title>\n<polygon fill=\"none\" stroke=\"#000000\" points=\"447.5,-53 315.5,-53 315.5,0 447.5,0 447.5,-53\"/>\n<text text-anchor=\"middle\" x=\"381.5\" y=\"-37.8\" font-family=\"Times,serif\" font-size=\"14.00\" fill=\"#000000\">gini = 0.113</text>\n<text text-anchor=\"middle\" x=\"381.5\" y=\"-22.8\" font-family=\"Times,serif\" font-size=\"14.00\" fill=\"#000000\">samples = 10568</text>\n<text text-anchor=\"middle\" x=\"381.5\" y=\"-7.8\" font-family=\"Times,serif\" font-size=\"14.00\" fill=\"#000000\">value = [9935, 633]</text>\n</g>\n<!-- 7&#45;&gt;8 -->\n<g id=\"edge8\" class=\"edge\">\n<title>7&#45;&gt;8</title>\n<path fill=\"none\" stroke=\"#000000\" d=\"M440.4168,-88.9777C431.7817,-79.8207 422.4386,-69.9129 413.7922,-60.744\"/>\n<polygon fill=\"#000000\" stroke=\"#000000\" points=\"416.1311,-58.1226 406.724,-53.2485 411.0383,-62.9251 416.1311,-58.1226\"/>\n</g>\n<!-- 9 -->\n<g id=\"node10\" class=\"node\">\n<title>9</title>\n<polygon fill=\"none\" stroke=\"#000000\" points=\"605.5,-53 465.5,-53 465.5,0 605.5,0 605.5,-53\"/>\n<text text-anchor=\"middle\" x=\"535.5\" y=\"-37.8\" font-family=\"Times,serif\" font-size=\"14.00\" fill=\"#000000\">gini = 0.012</text>\n<text text-anchor=\"middle\" x=\"535.5\" y=\"-22.8\" font-family=\"Times,serif\" font-size=\"14.00\" fill=\"#000000\">samples = 22887</text>\n<text text-anchor=\"middle\" x=\"535.5\" y=\"-7.8\" font-family=\"Times,serif\" font-size=\"14.00\" fill=\"#000000\">value = [22744, 143]</text>\n</g>\n<!-- 7&#45;&gt;9 -->\n<g id=\"edge9\" class=\"edge\">\n<title>7&#45;&gt;9</title>\n<path fill=\"none\" stroke=\"#000000\" d=\"M494.7114,-88.9777C500.4504,-80.187 506.6412,-70.7044 512.4233,-61.8477\"/>\n<polygon fill=\"#000000\" stroke=\"#000000\" points=\"515.5013,-63.5354 518.0373,-53.2485 509.6398,-59.7087 515.5013,-63.5354\"/>\n</g>\n<!-- 11 -->\n<g id=\"node12\" class=\"node\">\n<title>11</title>\n<polygon fill=\"none\" stroke=\"#000000\" points=\"911,-157 764,-157 764,-89 911,-89 911,-157\"/>\n<text text-anchor=\"middle\" x=\"837.5\" y=\"-141.8\" font-family=\"Times,serif\" font-size=\"14.00\" fill=\"#000000\">age &lt;= &#45;0.258</text>\n<text text-anchor=\"middle\" x=\"837.5\" y=\"-126.8\" font-family=\"Times,serif\" font-size=\"14.00\" fill=\"#000000\">gini = 0.256</text>\n<text text-anchor=\"middle\" x=\"837.5\" y=\"-111.8\" font-family=\"Times,serif\" font-size=\"14.00\" fill=\"#000000\">samples = 18879</text>\n<text text-anchor=\"middle\" x=\"837.5\" y=\"-96.8\" font-family=\"Times,serif\" font-size=\"14.00\" fill=\"#000000\">value = [16032, 2847]</text>\n</g>\n<!-- 10&#45;&gt;11 -->\n<g id=\"edge11\" class=\"edge\">\n<title>10&#45;&gt;11</title>\n<path fill=\"none\" stroke=\"#000000\" d=\"M900.0483,-192.9465C892.0194,-183.968 883.263,-174.1758 874.9133,-164.8385\"/>\n<polygon fill=\"#000000\" stroke=\"#000000\" points=\"877.295,-162.2512 868.0201,-157.13 872.077,-166.9174 877.295,-162.2512\"/>\n</g>\n<!-- 14 -->\n<g id=\"node15\" class=\"node\">\n<title>14</title>\n<polygon fill=\"none\" stroke=\"#000000\" points=\"1117.5,-157 929.5,-157 929.5,-89 1117.5,-89 1117.5,-157\"/>\n<text text-anchor=\"middle\" x=\"1023.5\" y=\"-141.8\" font-family=\"Times,serif\" font-size=\"14.00\" fill=\"#000000\">total_pages_visited &lt;= &#45;0.669</text>\n<text text-anchor=\"middle\" x=\"1023.5\" y=\"-126.8\" font-family=\"Times,serif\" font-size=\"14.00\" fill=\"#000000\">gini = 0.046</text>\n<text text-anchor=\"middle\" x=\"1023.5\" y=\"-111.8\" font-family=\"Times,serif\" font-size=\"14.00\" fill=\"#000000\">samples = 37820</text>\n<text text-anchor=\"middle\" x=\"1023.5\" y=\"-96.8\" font-family=\"Times,serif\" font-size=\"14.00\" fill=\"#000000\">value = [36923, 897]</text>\n</g>\n<!-- 10&#45;&gt;14 -->\n<g id=\"edge14\" class=\"edge\">\n<title>10&#45;&gt;14</title>\n<path fill=\"none\" stroke=\"#000000\" d=\"M960.9517,-192.9465C968.9806,-183.968 977.737,-174.1758 986.0867,-164.8385\"/>\n<polygon fill=\"#000000\" stroke=\"#000000\" points=\"988.923,-166.9174 992.9799,-157.13 983.705,-162.2512 988.923,-166.9174\"/>\n</g>\n<!-- 12 -->\n<g id=\"node13\" class=\"node\">\n<title>12</title>\n<polygon fill=\"none\" stroke=\"#000000\" points=\"763.5,-53 623.5,-53 623.5,0 763.5,0 763.5,-53\"/>\n<text text-anchor=\"middle\" x=\"693.5\" y=\"-37.8\" font-family=\"Times,serif\" font-size=\"14.00\" fill=\"#000000\">gini = 0.379</text>\n<text text-anchor=\"middle\" x=\"693.5\" y=\"-22.8\" font-family=\"Times,serif\" font-size=\"14.00\" fill=\"#000000\">samples = 7355</text>\n<text text-anchor=\"middle\" x=\"693.5\" y=\"-7.8\" font-family=\"Times,serif\" font-size=\"14.00\" fill=\"#000000\">value = [5489, 1866]</text>\n</g>\n<!-- 11&#45;&gt;12 -->\n<g id=\"edge12\" class=\"edge\">\n<title>11&#45;&gt;12</title>\n<path fill=\"none\" stroke=\"#000000\" d=\"M786.731,-88.9777C772.1102,-79.1798 756.2067,-68.5222 741.7435,-58.8298\"/>\n<polygon fill=\"#000000\" stroke=\"#000000\" points=\"743.6705,-55.908 733.4148,-53.2485 739.7736,-61.723 743.6705,-55.908\"/>\n</g>\n<!-- 13 -->\n<g id=\"node14\" class=\"node\">\n<title>13</title>\n<polygon fill=\"none\" stroke=\"#000000\" points=\"921.5,-53 781.5,-53 781.5,0 921.5,0 921.5,-53\"/>\n<text text-anchor=\"middle\" x=\"851.5\" y=\"-37.8\" font-family=\"Times,serif\" font-size=\"14.00\" fill=\"#000000\">gini = 0.156</text>\n<text text-anchor=\"middle\" x=\"851.5\" y=\"-22.8\" font-family=\"Times,serif\" font-size=\"14.00\" fill=\"#000000\">samples = 11524</text>\n<text text-anchor=\"middle\" x=\"851.5\" y=\"-7.8\" font-family=\"Times,serif\" font-size=\"14.00\" fill=\"#000000\">value = [10543, 981]</text>\n</g>\n<!-- 11&#45;&gt;13 -->\n<g id=\"edge13\" class=\"edge\">\n<title>11&#45;&gt;13</title>\n<path fill=\"none\" stroke=\"#000000\" d=\"M842.4359,-88.9777C843.6448,-80.6449 844.9439,-71.6903 846.1704,-63.2364\"/>\n<polygon fill=\"#000000\" stroke=\"#000000\" points=\"849.6473,-63.6474 847.6194,-53.2485 842.7198,-62.6423 849.6473,-63.6474\"/>\n</g>\n<!-- 15 -->\n<g id=\"node16\" class=\"node\">\n<title>15</title>\n<polygon fill=\"none\" stroke=\"#000000\" points=\"1079,-53 940,-53 940,0 1079,0 1079,-53\"/>\n<text text-anchor=\"middle\" x=\"1009.5\" y=\"-37.8\" font-family=\"Times,serif\" font-size=\"14.00\" fill=\"#000000\">gini = 0.021</text>\n<text text-anchor=\"middle\" x=\"1009.5\" y=\"-22.8\" font-family=\"Times,serif\" font-size=\"14.00\" fill=\"#000000\">samples = 20325</text>\n<text text-anchor=\"middle\" x=\"1009.5\" y=\"-7.8\" font-family=\"Times,serif\" font-size=\"14.00\" fill=\"#000000\">value = [20112, 213]</text>\n</g>\n<!-- 14&#45;&gt;15 -->\n<g id=\"edge15\" class=\"edge\">\n<title>14&#45;&gt;15</title>\n<path fill=\"none\" stroke=\"#000000\" d=\"M1018.5641,-88.9777C1017.3552,-80.6449 1016.0561,-71.6903 1014.8296,-63.2364\"/>\n<polygon fill=\"#000000\" stroke=\"#000000\" points=\"1018.2802,-62.6423 1013.3806,-53.2485 1011.3527,-63.6474 1018.2802,-62.6423\"/>\n</g>\n<!-- 16 -->\n<g id=\"node17\" class=\"node\">\n<title>16</title>\n<polygon fill=\"none\" stroke=\"#000000\" points=\"1236,-53 1097,-53 1097,0 1236,0 1236,-53\"/>\n<text text-anchor=\"middle\" x=\"1166.5\" y=\"-37.8\" font-family=\"Times,serif\" font-size=\"14.00\" fill=\"#000000\">gini = 0.075</text>\n<text text-anchor=\"middle\" x=\"1166.5\" y=\"-22.8\" font-family=\"Times,serif\" font-size=\"14.00\" fill=\"#000000\">samples = 17495</text>\n<text text-anchor=\"middle\" x=\"1166.5\" y=\"-7.8\" font-family=\"Times,serif\" font-size=\"14.00\" fill=\"#000000\">value = [16811, 684]</text>\n</g>\n<!-- 14&#45;&gt;16 -->\n<g id=\"edge16\" class=\"edge\">\n<title>14&#45;&gt;16</title>\n<path fill=\"none\" stroke=\"#000000\" d=\"M1073.9165,-88.9777C1088.3,-79.2713 1103.9337,-68.7213 1118.1885,-59.1018\"/>\n<polygon fill=\"#000000\" stroke=\"#000000\" points=\"1120.531,-61.7435 1126.8624,-53.2485 1116.6154,-55.941 1120.531,-61.7435\"/>\n</g>\n<!-- 18 -->\n<g id=\"node19\" class=\"node\">\n<title>18</title>\n<polygon fill=\"none\" stroke=\"#000000\" points=\"1777,-261 1616,-261 1616,-193 1777,-193 1777,-261\"/>\n<text text-anchor=\"middle\" x=\"1696.5\" y=\"-245.8\" font-family=\"Times,serif\" font-size=\"14.00\" fill=\"#000000\">country_China &lt;= 1.097</text>\n<text text-anchor=\"middle\" x=\"1696.5\" y=\"-230.8\" font-family=\"Times,serif\" font-size=\"14.00\" fill=\"#000000\">gini = 0.486</text>\n<text text-anchor=\"middle\" x=\"1696.5\" y=\"-215.8\" font-family=\"Times,serif\" font-size=\"14.00\" fill=\"#000000\">samples = 16897</text>\n<text text-anchor=\"middle\" x=\"1696.5\" y=\"-200.8\" font-family=\"Times,serif\" font-size=\"14.00\" fill=\"#000000\">value = [9851, 7046]</text>\n</g>\n<!-- 17&#45;&gt;18 -->\n<g id=\"edge18\" class=\"edge\">\n<title>17&#45;&gt;18</title>\n<path fill=\"none\" stroke=\"#000000\" d=\"M1828.9948,-296.9465C1810.2016,-287.0252 1789.5266,-276.1105 1770.2117,-265.9138\"/>\n<polygon fill=\"#000000\" stroke=\"#000000\" points=\"1771.6274,-262.7034 1761.1501,-261.13 1768.3594,-268.8938 1771.6274,-262.7034\"/>\n</g>\n<!-- 25 -->\n<g id=\"node26\" class=\"node\">\n<title>25</title>\n<polygon fill=\"none\" stroke=\"#000000\" points=\"2044,-261 1883,-261 1883,-193 2044,-193 2044,-261\"/>\n<text text-anchor=\"middle\" x=\"1963.5\" y=\"-245.8\" font-family=\"Times,serif\" font-size=\"14.00\" fill=\"#000000\">country_China &lt;= 1.097</text>\n<text text-anchor=\"middle\" x=\"1963.5\" y=\"-230.8\" font-family=\"Times,serif\" font-size=\"14.00\" fill=\"#000000\">gini = 0.195</text>\n<text text-anchor=\"middle\" x=\"1963.5\" y=\"-215.8\" font-family=\"Times,serif\" font-size=\"14.00\" fill=\"#000000\">samples = 25122</text>\n<text text-anchor=\"middle\" x=\"1963.5\" y=\"-200.8\" font-family=\"Times,serif\" font-size=\"14.00\" fill=\"#000000\">value = [22374, 2748]</text>\n</g>\n<!-- 17&#45;&gt;25 -->\n<g id=\"edge25\" class=\"edge\">\n<title>17&#45;&gt;25</title>\n<path fill=\"none\" stroke=\"#000000\" d=\"M1916.4206,-296.9465C1922.2826,-288.2373 1928.6598,-278.7626 1934.773,-269.6801\"/>\n<polygon fill=\"#000000\" stroke=\"#000000\" points=\"1937.8476,-271.3802 1940.5279,-261.13 1932.0405,-267.4716 1937.8476,-271.3802\"/>\n</g>\n<!-- 19 -->\n<g id=\"node20\" class=\"node\">\n<title>19</title>\n<polygon fill=\"none\" stroke=\"#000000\" points=\"1548.5,-157 1408.5,-157 1408.5,-89 1548.5,-89 1548.5,-157\"/>\n<text text-anchor=\"middle\" x=\"1478.5\" y=\"-141.8\" font-family=\"Times,serif\" font-size=\"14.00\" fill=\"#000000\">age &lt;= 1.026</text>\n<text text-anchor=\"middle\" x=\"1478.5\" y=\"-126.8\" font-family=\"Times,serif\" font-size=\"14.00\" fill=\"#000000\">gini = 0.499</text>\n<text text-anchor=\"middle\" x=\"1478.5\" y=\"-111.8\" font-family=\"Times,serif\" font-size=\"14.00\" fill=\"#000000\">samples = 14449</text>\n<text text-anchor=\"middle\" x=\"1478.5\" y=\"-96.8\" font-family=\"Times,serif\" font-size=\"14.00\" fill=\"#000000\">value = [7474, 6975]</text>\n</g>\n<!-- 18&#45;&gt;19 -->\n<g id=\"edge19\" class=\"edge\">\n<title>18&#45;&gt;19</title>\n<path fill=\"none\" stroke=\"#000000\" d=\"M1625.1186,-192.9465C1603.6052,-182.6832 1579.8633,-171.3568 1557.8643,-160.8619\"/>\n<polygon fill=\"#000000\" stroke=\"#000000\" points=\"1559.087,-157.5673 1548.5544,-156.4205 1556.073,-163.8852 1559.087,-157.5673\"/>\n</g>\n<!-- 22 -->\n<g id=\"node23\" class=\"node\">\n<title>22</title>\n<polygon fill=\"none\" stroke=\"#000000\" points=\"1759,-157 1634,-157 1634,-89 1759,-89 1759,-157\"/>\n<text text-anchor=\"middle\" x=\"1696.5\" y=\"-141.8\" font-family=\"Times,serif\" font-size=\"14.00\" fill=\"#000000\">age &lt;= 0.127</text>\n<text text-anchor=\"middle\" x=\"1696.5\" y=\"-126.8\" font-family=\"Times,serif\" font-size=\"14.00\" fill=\"#000000\">gini = 0.056</text>\n<text text-anchor=\"middle\" x=\"1696.5\" y=\"-111.8\" font-family=\"Times,serif\" font-size=\"14.00\" fill=\"#000000\">samples = 2448</text>\n<text text-anchor=\"middle\" x=\"1696.5\" y=\"-96.8\" font-family=\"Times,serif\" font-size=\"14.00\" fill=\"#000000\">value = [2377, 71]</text>\n</g>\n<!-- 18&#45;&gt;22 -->\n<g id=\"edge22\" class=\"edge\">\n<title>18&#45;&gt;22</title>\n<path fill=\"none\" stroke=\"#000000\" d=\"M1696.5,-192.9465C1696.5,-184.776 1696.5,-175.9318 1696.5,-167.3697\"/>\n<polygon fill=\"#000000\" stroke=\"#000000\" points=\"1700.0001,-167.13 1696.5,-157.13 1693.0001,-167.13 1700.0001,-167.13\"/>\n</g>\n<!-- 20 -->\n<g id=\"node21\" class=\"node\">\n<title>20</title>\n<polygon fill=\"none\" stroke=\"#000000\" points=\"1394.5,-53 1254.5,-53 1254.5,0 1394.5,0 1394.5,-53\"/>\n<text text-anchor=\"middle\" x=\"1324.5\" y=\"-37.8\" font-family=\"Times,serif\" font-size=\"14.00\" fill=\"#000000\">gini = 0.497</text>\n<text text-anchor=\"middle\" x=\"1324.5\" y=\"-22.8\" font-family=\"Times,serif\" font-size=\"14.00\" fill=\"#000000\">samples = 12187</text>\n<text text-anchor=\"middle\" x=\"1324.5\" y=\"-7.8\" font-family=\"Times,serif\" font-size=\"14.00\" fill=\"#000000\">value = [5662, 6525]</text>\n</g>\n<!-- 19&#45;&gt;20 -->\n<g id=\"edge20\" class=\"edge\">\n<title>19&#45;&gt;20</title>\n<path fill=\"none\" stroke=\"#000000\" d=\"M1424.2054,-88.9777C1408.5692,-79.1798 1391.5613,-68.5222 1376.0937,-58.8298\"/>\n<polygon fill=\"#000000\" stroke=\"#000000\" points=\"1377.519,-55.5926 1367.1867,-53.2485 1373.802,-61.5242 1377.519,-55.5926\"/>\n</g>\n<!-- 21 -->\n<g id=\"node22\" class=\"node\">\n<title>21</title>\n<polygon fill=\"none\" stroke=\"#000000\" points=\"1544.5,-53 1412.5,-53 1412.5,0 1544.5,0 1544.5,-53\"/>\n<text text-anchor=\"middle\" x=\"1478.5\" y=\"-37.8\" font-family=\"Times,serif\" font-size=\"14.00\" fill=\"#000000\">gini = 0.319</text>\n<text text-anchor=\"middle\" x=\"1478.5\" y=\"-22.8\" font-family=\"Times,serif\" font-size=\"14.00\" fill=\"#000000\">samples = 2262</text>\n<text text-anchor=\"middle\" x=\"1478.5\" y=\"-7.8\" font-family=\"Times,serif\" font-size=\"14.00\" fill=\"#000000\">value = [1812, 450]</text>\n</g>\n<!-- 19&#45;&gt;21 -->\n<g id=\"edge21\" class=\"edge\">\n<title>19&#45;&gt;21</title>\n<path fill=\"none\" stroke=\"#000000\" d=\"M1478.5,-88.9777C1478.5,-80.7364 1478.5,-71.887 1478.5,-63.5153\"/>\n<polygon fill=\"#000000\" stroke=\"#000000\" points=\"1482.0001,-63.2484 1478.5,-53.2485 1475.0001,-63.2485 1482.0001,-63.2484\"/>\n</g>\n<!-- 23 -->\n<g id=\"node24\" class=\"node\">\n<title>23</title>\n<polygon fill=\"none\" stroke=\"#000000\" points=\"1686.5,-53 1562.5,-53 1562.5,0 1686.5,0 1686.5,-53\"/>\n<text text-anchor=\"middle\" x=\"1624.5\" y=\"-37.8\" font-family=\"Times,serif\" font-size=\"14.00\" fill=\"#000000\">gini = 0.11</text>\n<text text-anchor=\"middle\" x=\"1624.5\" y=\"-22.8\" font-family=\"Times,serif\" font-size=\"14.00\" fill=\"#000000\">samples = 1217</text>\n<text text-anchor=\"middle\" x=\"1624.5\" y=\"-7.8\" font-family=\"Times,serif\" font-size=\"14.00\" fill=\"#000000\">value = [1146, 71]</text>\n</g>\n<!-- 22&#45;&gt;23 -->\n<g id=\"edge23\" class=\"edge\">\n<title>22&#45;&gt;23</title>\n<path fill=\"none\" stroke=\"#000000\" d=\"M1671.1155,-88.9777C1664.42,-80.0039 1657.1865,-70.3089 1650.461,-61.295\"/>\n<polygon fill=\"#000000\" stroke=\"#000000\" points=\"1653.2427,-59.1704 1644.4574,-53.2485 1647.6323,-63.3565 1653.2427,-59.1704\"/>\n</g>\n<!-- 24 -->\n<g id=\"node25\" class=\"node\">\n<title>24</title>\n<polygon fill=\"none\" stroke=\"#000000\" points=\"1822,-53 1705,-53 1705,0 1822,0 1822,-53\"/>\n<text text-anchor=\"middle\" x=\"1763.5\" y=\"-37.8\" font-family=\"Times,serif\" font-size=\"14.00\" fill=\"#000000\">gini = 0.0</text>\n<text text-anchor=\"middle\" x=\"1763.5\" y=\"-22.8\" font-family=\"Times,serif\" font-size=\"14.00\" fill=\"#000000\">samples = 1231</text>\n<text text-anchor=\"middle\" x=\"1763.5\" y=\"-7.8\" font-family=\"Times,serif\" font-size=\"14.00\" fill=\"#000000\">value = [1231, 0]</text>\n</g>\n<!-- 22&#45;&gt;24 -->\n<g id=\"edge24\" class=\"edge\">\n<title>22&#45;&gt;24</title>\n<path fill=\"none\" stroke=\"#000000\" d=\"M1720.1217,-88.9777C1726.2887,-80.0954 1732.9461,-70.5067 1739.1501,-61.5711\"/>\n<polygon fill=\"#000000\" stroke=\"#000000\" points=\"1742.1003,-63.4589 1744.9285,-53.2485 1736.3503,-59.4666 1742.1003,-63.4589\"/>\n</g>\n<!-- 26 -->\n<g id=\"node27\" class=\"node\">\n<title>26</title>\n<polygon fill=\"none\" stroke=\"#000000\" points=\"2037,-157 1890,-157 1890,-89 2037,-89 2037,-157\"/>\n<text text-anchor=\"middle\" x=\"1963.5\" y=\"-141.8\" font-family=\"Times,serif\" font-size=\"14.00\" fill=\"#000000\">age &lt;= &#45;1.414</text>\n<text text-anchor=\"middle\" x=\"1963.5\" y=\"-126.8\" font-family=\"Times,serif\" font-size=\"14.00\" fill=\"#000000\">gini = 0.237</text>\n<text text-anchor=\"middle\" x=\"1963.5\" y=\"-111.8\" font-family=\"Times,serif\" font-size=\"14.00\" fill=\"#000000\">samples = 19522</text>\n<text text-anchor=\"middle\" x=\"1963.5\" y=\"-96.8\" font-family=\"Times,serif\" font-size=\"14.00\" fill=\"#000000\">value = [16837, 2685]</text>\n</g>\n<!-- 25&#45;&gt;26 -->\n<g id=\"edge26\" class=\"edge\">\n<title>25&#45;&gt;26</title>\n<path fill=\"none\" stroke=\"#000000\" d=\"M1963.5,-192.9465C1963.5,-184.776 1963.5,-175.9318 1963.5,-167.3697\"/>\n<polygon fill=\"#000000\" stroke=\"#000000\" points=\"1967.0001,-167.13 1963.5,-157.13 1960.0001,-167.13 1967.0001,-167.13\"/>\n</g>\n<!-- 29 -->\n<g id=\"node30\" class=\"node\">\n<title>29</title>\n<polygon fill=\"none\" stroke=\"#000000\" points=\"2297,-157 2116,-157 2116,-89 2297,-89 2297,-157\"/>\n<text text-anchor=\"middle\" x=\"2206.5\" y=\"-141.8\" font-family=\"Times,serif\" font-size=\"14.00\" fill=\"#000000\">total_pages_visited &lt;= &#45;0.34</text>\n<text text-anchor=\"middle\" x=\"2206.5\" y=\"-126.8\" font-family=\"Times,serif\" font-size=\"14.00\" fill=\"#000000\">gini = 0.022</text>\n<text text-anchor=\"middle\" x=\"2206.5\" y=\"-111.8\" font-family=\"Times,serif\" font-size=\"14.00\" fill=\"#000000\">samples = 5600</text>\n<text text-anchor=\"middle\" x=\"2206.5\" y=\"-96.8\" font-family=\"Times,serif\" font-size=\"14.00\" fill=\"#000000\">value = [5537, 63]</text>\n</g>\n<!-- 25&#45;&gt;29 -->\n<g id=\"edge29\" class=\"edge\">\n<title>25&#45;&gt;29</title>\n<path fill=\"none\" stroke=\"#000000\" d=\"M2043.0673,-192.9465C2066.8781,-182.7559 2093.1379,-171.5171 2117.5132,-161.0849\"/>\n<polygon fill=\"#000000\" stroke=\"#000000\" points=\"2118.9377,-164.2824 2126.754,-157.13 2116.1834,-157.847 2118.9377,-164.2824\"/>\n</g>\n<!-- 27 -->\n<g id=\"node28\" class=\"node\">\n<title>27</title>\n<polygon fill=\"none\" stroke=\"#000000\" points=\"1965,-53 1840,-53 1840,0 1965,0 1965,-53\"/>\n<text text-anchor=\"middle\" x=\"1902.5\" y=\"-37.8\" font-family=\"Times,serif\" font-size=\"14.00\" fill=\"#000000\">gini = 0.461</text>\n<text text-anchor=\"middle\" x=\"1902.5\" y=\"-22.8\" font-family=\"Times,serif\" font-size=\"14.00\" fill=\"#000000\">samples = 612</text>\n<text text-anchor=\"middle\" x=\"1902.5\" y=\"-7.8\" font-family=\"Times,serif\" font-size=\"14.00\" fill=\"#000000\">value = [391, 221]</text>\n</g>\n<!-- 26&#45;&gt;27 -->\n<g id=\"edge27\" class=\"edge\">\n<title>26&#45;&gt;27</title>\n<path fill=\"none\" stroke=\"#000000\" d=\"M1941.9937,-88.9777C1936.4369,-80.187 1930.4427,-70.7044 1924.8441,-61.8477\"/>\n<polygon fill=\"#000000\" stroke=\"#000000\" points=\"1927.7101,-59.8312 1919.4084,-53.2485 1921.7931,-63.5714 1927.7101,-59.8312\"/>\n</g>\n<!-- 28 -->\n<g id=\"node29\" class=\"node\">\n<title>28</title>\n<polygon fill=\"none\" stroke=\"#000000\" points=\"2130,-53 1983,-53 1983,0 2130,0 2130,-53\"/>\n<text text-anchor=\"middle\" x=\"2056.5\" y=\"-37.8\" font-family=\"Times,serif\" font-size=\"14.00\" fill=\"#000000\">gini = 0.227</text>\n<text text-anchor=\"middle\" x=\"2056.5\" y=\"-22.8\" font-family=\"Times,serif\" font-size=\"14.00\" fill=\"#000000\">samples = 18910</text>\n<text text-anchor=\"middle\" x=\"2056.5\" y=\"-7.8\" font-family=\"Times,serif\" font-size=\"14.00\" fill=\"#000000\">value = [16446, 2464]</text>\n</g>\n<!-- 26&#45;&gt;28 -->\n<g id=\"edge28\" class=\"edge\">\n<title>26&#45;&gt;28</title>\n<path fill=\"none\" stroke=\"#000000\" d=\"M1996.2883,-88.9777C2005.2014,-79.7292 2014.8527,-69.7147 2023.7629,-60.4691\"/>\n<polygon fill=\"#000000\" stroke=\"#000000\" points=\"2026.3025,-62.8777 2030.7217,-53.2485 2021.2622,-58.0202 2026.3025,-62.8777\"/>\n</g>\n<!-- 30 -->\n<g id=\"node31\" class=\"node\">\n<title>30</title>\n<polygon fill=\"none\" stroke=\"#000000\" points=\"2265,-53 2148,-53 2148,0 2265,0 2265,-53\"/>\n<text text-anchor=\"middle\" x=\"2206.5\" y=\"-37.8\" font-family=\"Times,serif\" font-size=\"14.00\" fill=\"#000000\">gini = 0.0</text>\n<text text-anchor=\"middle\" x=\"2206.5\" y=\"-22.8\" font-family=\"Times,serif\" font-size=\"14.00\" fill=\"#000000\">samples = 3123</text>\n<text text-anchor=\"middle\" x=\"2206.5\" y=\"-7.8\" font-family=\"Times,serif\" font-size=\"14.00\" fill=\"#000000\">value = [3123, 0]</text>\n</g>\n<!-- 29&#45;&gt;30 -->\n<g id=\"edge30\" class=\"edge\">\n<title>29&#45;&gt;30</title>\n<path fill=\"none\" stroke=\"#000000\" d=\"M2206.5,-88.9777C2206.5,-80.7364 2206.5,-71.887 2206.5,-63.5153\"/>\n<polygon fill=\"#000000\" stroke=\"#000000\" points=\"2210.0001,-63.2484 2206.5,-53.2485 2203.0001,-63.2485 2210.0001,-63.2484\"/>\n</g>\n<!-- 31 -->\n<g id=\"node32\" class=\"node\">\n<title>31</title>\n<polygon fill=\"none\" stroke=\"#000000\" points=\"2408,-53 2283,-53 2283,0 2408,0 2408,-53\"/>\n<text text-anchor=\"middle\" x=\"2345.5\" y=\"-37.8\" font-family=\"Times,serif\" font-size=\"14.00\" fill=\"#000000\">gini = 0.05</text>\n<text text-anchor=\"middle\" x=\"2345.5\" y=\"-22.8\" font-family=\"Times,serif\" font-size=\"14.00\" fill=\"#000000\">samples = 2477</text>\n<text text-anchor=\"middle\" x=\"2345.5\" y=\"-7.8\" font-family=\"Times,serif\" font-size=\"14.00\" fill=\"#000000\">value = [2414, 63]</text>\n</g>\n<!-- 29&#45;&gt;31 -->\n<g id=\"edge31\" class=\"edge\">\n<title>29&#45;&gt;31</title>\n<path fill=\"none\" stroke=\"#000000\" d=\"M2255.5062,-88.9777C2269.4874,-79.2713 2284.6838,-68.7213 2298.5398,-59.1018\"/>\n<polygon fill=\"#000000\" stroke=\"#000000\" points=\"2300.7526,-61.8264 2306.9711,-53.2485 2296.7606,-56.0763 2300.7526,-61.8264\"/>\n</g>\n<!-- 33 -->\n<g id=\"node34\" class=\"node\">\n<title>33</title>\n<polygon fill=\"none\" stroke=\"#000000\" points=\"3054,-365 2893,-365 2893,-297 3054,-297 3054,-365\"/>\n<text text-anchor=\"middle\" x=\"2973.5\" y=\"-349.8\" font-family=\"Times,serif\" font-size=\"14.00\" fill=\"#000000\">country_China &lt;= 1.097</text>\n<text text-anchor=\"middle\" x=\"2973.5\" y=\"-334.8\" font-family=\"Times,serif\" font-size=\"14.00\" fill=\"#000000\">gini = 0.488</text>\n<text text-anchor=\"middle\" x=\"2973.5\" y=\"-319.8\" font-family=\"Times,serif\" font-size=\"14.00\" fill=\"#000000\">samples = 36589</text>\n<text text-anchor=\"middle\" x=\"2973.5\" y=\"-304.8\" font-family=\"Times,serif\" font-size=\"14.00\" fill=\"#000000\">value = [15458, 21131]</text>\n</g>\n<!-- 32&#45;&gt;33 -->\n<g id=\"edge33\" class=\"edge\">\n<title>32&#45;&gt;33</title>\n<path fill=\"none\" stroke=\"#000000\" d=\"M2973.5,-400.9465C2973.5,-392.776 2973.5,-383.9318 2973.5,-375.3697\"/>\n<polygon fill=\"#000000\" stroke=\"#000000\" points=\"2977.0001,-375.13 2973.5,-365.13 2970.0001,-375.13 2977.0001,-375.13\"/>\n</g>\n<!-- 48 -->\n<g id=\"node49\" class=\"node\">\n<title>48</title>\n<polygon fill=\"none\" stroke=\"#000000\" points=\"4017,-365 3856,-365 3856,-297 4017,-297 4017,-365\"/>\n<text text-anchor=\"middle\" x=\"3936.5\" y=\"-349.8\" font-family=\"Times,serif\" font-size=\"14.00\" fill=\"#000000\">country_China &lt;= 1.097</text>\n<text text-anchor=\"middle\" x=\"3936.5\" y=\"-334.8\" font-family=\"Times,serif\" font-size=\"14.00\" fill=\"#000000\">gini = 0.072</text>\n<text text-anchor=\"middle\" x=\"3936.5\" y=\"-319.8\" font-family=\"Times,serif\" font-size=\"14.00\" fill=\"#000000\">samples = 216185</text>\n<text text-anchor=\"middle\" x=\"3936.5\" y=\"-304.8\" font-family=\"Times,serif\" font-size=\"14.00\" fill=\"#000000\">value = [8117, 208068]</text>\n</g>\n<!-- 32&#45;&gt;48 -->\n<g id=\"edge48\" class=\"edge\">\n<title>32&#45;&gt;48</title>\n<path fill=\"none\" stroke=\"#000000\" d=\"M3065.8365,-425.028C3250.3016,-405.1066 3662.3741,-360.6045 3845.6276,-340.8138\"/>\n<polygon fill=\"#000000\" stroke=\"#000000\" points=\"3846.2063,-344.2718 3855.7727,-339.7182 3845.4547,-337.3123 3846.2063,-344.2718\"/>\n</g>\n<!-- 34 -->\n<g id=\"node35\" class=\"node\">\n<title>34</title>\n<polygon fill=\"none\" stroke=\"#000000\" points=\"2976.5,-261 2822.5,-261 2822.5,-193 2976.5,-193 2976.5,-261\"/>\n<text text-anchor=\"middle\" x=\"2899.5\" y=\"-245.8\" font-family=\"Times,serif\" font-size=\"14.00\" fill=\"#000000\">new_user &lt;= 0.006</text>\n<text text-anchor=\"middle\" x=\"2899.5\" y=\"-230.8\" font-family=\"Times,serif\" font-size=\"14.00\" fill=\"#000000\">gini = 0.459</text>\n<text text-anchor=\"middle\" x=\"2899.5\" y=\"-215.8\" font-family=\"Times,serif\" font-size=\"14.00\" fill=\"#000000\">samples = 32617</text>\n<text text-anchor=\"middle\" x=\"2899.5\" y=\"-200.8\" font-family=\"Times,serif\" font-size=\"14.00\" fill=\"#000000\">value = [11622, 20995]</text>\n</g>\n<!-- 33&#45;&gt;34 -->\n<g id=\"edge34\" class=\"edge\">\n<title>33&#45;&gt;34</title>\n<path fill=\"none\" stroke=\"#000000\" d=\"M2949.2696,-296.9465C2943.0088,-288.1475 2936.192,-278.5672 2929.6687,-269.3993\"/>\n<polygon fill=\"#000000\" stroke=\"#000000\" points=\"2932.4342,-267.2488 2923.7848,-261.13 2926.7306,-271.3071 2932.4342,-267.2488\"/>\n</g>\n<!-- 41 -->\n<g id=\"node42\" class=\"node\">\n<title>41</title>\n<polygon fill=\"none\" stroke=\"#000000\" points=\"3248.5,-261 3106.5,-261 3106.5,-193 3248.5,-193 3248.5,-261\"/>\n<text text-anchor=\"middle\" x=\"3177.5\" y=\"-245.8\" font-family=\"Times,serif\" font-size=\"14.00\" fill=\"#000000\">source_Ads &lt;= 0.463</text>\n<text text-anchor=\"middle\" x=\"3177.5\" y=\"-230.8\" font-family=\"Times,serif\" font-size=\"14.00\" fill=\"#000000\">gini = 0.066</text>\n<text text-anchor=\"middle\" x=\"3177.5\" y=\"-215.8\" font-family=\"Times,serif\" font-size=\"14.00\" fill=\"#000000\">samples = 3972</text>\n<text text-anchor=\"middle\" x=\"3177.5\" y=\"-200.8\" font-family=\"Times,serif\" font-size=\"14.00\" fill=\"#000000\">value = [3836, 136]</text>\n</g>\n<!-- 33&#45;&gt;41 -->\n<g id=\"edge41\" class=\"edge\">\n<title>33&#45;&gt;41</title>\n<path fill=\"none\" stroke=\"#000000\" d=\"M3040.2972,-296.9465C3059.8463,-286.9803 3081.3617,-276.0117 3101.4406,-265.7754\"/>\n<polygon fill=\"#000000\" stroke=\"#000000\" points=\"3103.2333,-268.7901 3110.5527,-261.13 3100.054,-262.5537 3103.2333,-268.7901\"/>\n</g>\n<!-- 35 -->\n<g id=\"node36\" class=\"node\">\n<title>35</title>\n<polygon fill=\"none\" stroke=\"#000000\" points=\"2734,-157 2587,-157 2587,-89 2734,-89 2734,-157\"/>\n<text text-anchor=\"middle\" x=\"2660.5\" y=\"-141.8\" font-family=\"Times,serif\" font-size=\"14.00\" fill=\"#000000\">age &lt;= 0.384</text>\n<text text-anchor=\"middle\" x=\"2660.5\" y=\"-126.8\" font-family=\"Times,serif\" font-size=\"14.00\" fill=\"#000000\">gini = 0.317</text>\n<text text-anchor=\"middle\" x=\"2660.5\" y=\"-111.8\" font-family=\"Times,serif\" font-size=\"14.00\" fill=\"#000000\">samples = 17841</text>\n<text text-anchor=\"middle\" x=\"2660.5\" y=\"-96.8\" font-family=\"Times,serif\" font-size=\"14.00\" fill=\"#000000\">value = [3524, 14317]</text>\n</g>\n<!-- 34&#45;&gt;35 -->\n<g id=\"edge35\" class=\"edge\">\n<title>34&#45;&gt;35</title>\n<path fill=\"none\" stroke=\"#000000\" d=\"M2822.2336,-193.3778C2797.0904,-182.4368 2769.0846,-170.2502 2743.5375,-159.1335\"/>\n<polygon fill=\"#000000\" stroke=\"#000000\" points=\"2744.8126,-155.8714 2734.2466,-155.0906 2742.0195,-162.29 2744.8126,-155.8714\"/>\n</g>\n<!-- 38 -->\n<g id=\"node39\" class=\"node\">\n<title>38</title>\n<polygon fill=\"none\" stroke=\"#000000\" points=\"2969.5,-157 2829.5,-157 2829.5,-89 2969.5,-89 2969.5,-157\"/>\n<text text-anchor=\"middle\" x=\"2899.5\" y=\"-141.8\" font-family=\"Times,serif\" font-size=\"14.00\" fill=\"#000000\">age &lt;= &#45;0.643</text>\n<text text-anchor=\"middle\" x=\"2899.5\" y=\"-126.8\" font-family=\"Times,serif\" font-size=\"14.00\" fill=\"#000000\">gini = 0.495</text>\n<text text-anchor=\"middle\" x=\"2899.5\" y=\"-111.8\" font-family=\"Times,serif\" font-size=\"14.00\" fill=\"#000000\">samples = 14776</text>\n<text text-anchor=\"middle\" x=\"2899.5\" y=\"-96.8\" font-family=\"Times,serif\" font-size=\"14.00\" fill=\"#000000\">value = [8098, 6678]</text>\n</g>\n<!-- 34&#45;&gt;38 -->\n<g id=\"edge38\" class=\"edge\">\n<title>34&#45;&gt;38</title>\n<path fill=\"none\" stroke=\"#000000\" d=\"M2899.5,-192.9465C2899.5,-184.776 2899.5,-175.9318 2899.5,-167.3697\"/>\n<polygon fill=\"#000000\" stroke=\"#000000\" points=\"2903.0001,-167.13 2899.5,-157.13 2896.0001,-167.13 2903.0001,-167.13\"/>\n</g>\n<!-- 36 -->\n<g id=\"node37\" class=\"node\">\n<title>36</title>\n<polygon fill=\"none\" stroke=\"#000000\" points=\"2572.5,-53 2426.5,-53 2426.5,0 2572.5,0 2572.5,-53\"/>\n<text text-anchor=\"middle\" x=\"2499.5\" y=\"-37.8\" font-family=\"Times,serif\" font-size=\"14.00\" fill=\"#000000\">gini = 0.249</text>\n<text text-anchor=\"middle\" x=\"2499.5\" y=\"-22.8\" font-family=\"Times,serif\" font-size=\"14.00\" fill=\"#000000\">samples = 13522</text>\n<text text-anchor=\"middle\" x=\"2499.5\" y=\"-7.8\" font-family=\"Times,serif\" font-size=\"14.00\" fill=\"#000000\">value = [1966, 11556]</text>\n</g>\n<!-- 35&#45;&gt;36 -->\n<g id=\"edge36\" class=\"edge\">\n<title>35&#45;&gt;36</title>\n<path fill=\"none\" stroke=\"#000000\" d=\"M2603.7374,-88.9777C2587.1614,-79.0424 2569.1107,-68.2232 2552.7598,-58.4228\"/>\n<polygon fill=\"#000000\" stroke=\"#000000\" points=\"2554.2477,-55.2341 2543.871,-53.095 2550.6489,-61.2382 2554.2477,-55.2341\"/>\n</g>\n<!-- 37 -->\n<g id=\"node38\" class=\"node\">\n<title>37</title>\n<polygon fill=\"none\" stroke=\"#000000\" points=\"2730.5,-53 2590.5,-53 2590.5,0 2730.5,0 2730.5,-53\"/>\n<text text-anchor=\"middle\" x=\"2660.5\" y=\"-37.8\" font-family=\"Times,serif\" font-size=\"14.00\" fill=\"#000000\">gini = 0.461</text>\n<text text-anchor=\"middle\" x=\"2660.5\" y=\"-22.8\" font-family=\"Times,serif\" font-size=\"14.00\" fill=\"#000000\">samples = 4319</text>\n<text text-anchor=\"middle\" x=\"2660.5\" y=\"-7.8\" font-family=\"Times,serif\" font-size=\"14.00\" fill=\"#000000\">value = [1558, 2761]</text>\n</g>\n<!-- 35&#45;&gt;37 -->\n<g id=\"edge37\" class=\"edge\">\n<title>35&#45;&gt;37</title>\n<path fill=\"none\" stroke=\"#000000\" d=\"M2660.5,-88.9777C2660.5,-80.7364 2660.5,-71.887 2660.5,-63.5153\"/>\n<polygon fill=\"#000000\" stroke=\"#000000\" points=\"2664.0001,-63.2484 2660.5,-53.2485 2657.0001,-63.2485 2664.0001,-63.2484\"/>\n</g>\n<!-- 39 -->\n<g id=\"node40\" class=\"node\">\n<title>39</title>\n<polygon fill=\"none\" stroke=\"#000000\" points=\"2888.5,-53 2748.5,-53 2748.5,0 2888.5,0 2888.5,-53\"/>\n<text text-anchor=\"middle\" x=\"2818.5\" y=\"-37.8\" font-family=\"Times,serif\" font-size=\"14.00\" fill=\"#000000\">gini = 0.471</text>\n<text text-anchor=\"middle\" x=\"2818.5\" y=\"-22.8\" font-family=\"Times,serif\" font-size=\"14.00\" fill=\"#000000\">samples = 4631</text>\n<text text-anchor=\"middle\" x=\"2818.5\" y=\"-7.8\" font-family=\"Times,serif\" font-size=\"14.00\" fill=\"#000000\">value = [1756, 2875]</text>\n</g>\n<!-- 38&#45;&gt;39 -->\n<g id=\"edge39\" class=\"edge\">\n<title>38&#45;&gt;39</title>\n<path fill=\"none\" stroke=\"#000000\" d=\"M2870.9424,-88.9777C2863.3331,-79.9123 2855.1061,-70.111 2847.4747,-61.0192\"/>\n<polygon fill=\"#000000\" stroke=\"#000000\" points=\"2850.062,-58.6577 2840.9521,-53.2485 2844.7005,-63.1581 2850.062,-58.6577\"/>\n</g>\n<!-- 40 -->\n<g id=\"node41\" class=\"node\">\n<title>40</title>\n<polygon fill=\"none\" stroke=\"#000000\" points=\"3046.5,-53 2906.5,-53 2906.5,0 3046.5,0 3046.5,-53\"/>\n<text text-anchor=\"middle\" x=\"2976.5\" y=\"-37.8\" font-family=\"Times,serif\" font-size=\"14.00\" fill=\"#000000\">gini = 0.469</text>\n<text text-anchor=\"middle\" x=\"2976.5\" y=\"-22.8\" font-family=\"Times,serif\" font-size=\"14.00\" fill=\"#000000\">samples = 10145</text>\n<text text-anchor=\"middle\" x=\"2976.5\" y=\"-7.8\" font-family=\"Times,serif\" font-size=\"14.00\" fill=\"#000000\">value = [6342, 3803]</text>\n</g>\n<!-- 38&#45;&gt;40 -->\n<g id=\"edge40\" class=\"edge\">\n<title>38&#45;&gt;40</title>\n<path fill=\"none\" stroke=\"#000000\" d=\"M2926.6473,-88.9777C2933.8078,-80.0039 2941.5436,-70.3089 2948.7361,-61.295\"/>\n<polygon fill=\"#000000\" stroke=\"#000000\" points=\"2951.6554,-63.2481 2955.1567,-53.2485 2946.1837,-58.8821 2951.6554,-63.2481\"/>\n</g>\n<!-- 42 -->\n<g id=\"node43\" class=\"node\">\n<title>42</title>\n<polygon fill=\"none\" stroke=\"#000000\" points=\"3268,-157 3087,-157 3087,-89 3268,-89 3268,-157\"/>\n<text text-anchor=\"middle\" x=\"3177.5\" y=\"-141.8\" font-family=\"Times,serif\" font-size=\"14.00\" fill=\"#000000\">total_pages_visited &lt;= &#45;0.01</text>\n<text text-anchor=\"middle\" x=\"3177.5\" y=\"-126.8\" font-family=\"Times,serif\" font-size=\"14.00\" fill=\"#000000\">gini = 0.02</text>\n<text text-anchor=\"middle\" x=\"3177.5\" y=\"-111.8\" font-family=\"Times,serif\" font-size=\"14.00\" fill=\"#000000\">samples = 2843</text>\n<text text-anchor=\"middle\" x=\"3177.5\" y=\"-96.8\" font-family=\"Times,serif\" font-size=\"14.00\" fill=\"#000000\">value = [2815, 28]</text>\n</g>\n<!-- 41&#45;&gt;42 -->\n<g id=\"edge42\" class=\"edge\">\n<title>41&#45;&gt;42</title>\n<path fill=\"none\" stroke=\"#000000\" d=\"M3177.5,-192.9465C3177.5,-184.776 3177.5,-175.9318 3177.5,-167.3697\"/>\n<polygon fill=\"#000000\" stroke=\"#000000\" points=\"3181.0001,-167.13 3177.5,-157.13 3174.0001,-167.13 3181.0001,-167.13\"/>\n</g>\n<!-- 45 -->\n<g id=\"node46\" class=\"node\">\n<title>45</title>\n<polygon fill=\"none\" stroke=\"#000000\" points=\"3471.5,-157 3339.5,-157 3339.5,-89 3471.5,-89 3471.5,-157\"/>\n<text text-anchor=\"middle\" x=\"3405.5\" y=\"-141.8\" font-family=\"Times,serif\" font-size=\"14.00\" fill=\"#000000\">age &lt;= 0.256</text>\n<text text-anchor=\"middle\" x=\"3405.5\" y=\"-126.8\" font-family=\"Times,serif\" font-size=\"14.00\" fill=\"#000000\">gini = 0.173</text>\n<text text-anchor=\"middle\" x=\"3405.5\" y=\"-111.8\" font-family=\"Times,serif\" font-size=\"14.00\" fill=\"#000000\">samples = 1129</text>\n<text text-anchor=\"middle\" x=\"3405.5\" y=\"-96.8\" font-family=\"Times,serif\" font-size=\"14.00\" fill=\"#000000\">value = [1021, 108]</text>\n</g>\n<!-- 41&#45;&gt;45 -->\n<g id=\"edge45\" class=\"edge\">\n<title>41&#45;&gt;45</title>\n<path fill=\"none\" stroke=\"#000000\" d=\"M3248.7028,-194.5215C3274.65,-182.686 3304.0575,-169.272 3330.3376,-157.2846\"/>\n<polygon fill=\"#000000\" stroke=\"#000000\" points=\"3331.8463,-160.4434 3339.492,-153.1089 3328.9412,-154.0747 3331.8463,-160.4434\"/>\n</g>\n<!-- 43 -->\n<g id=\"node44\" class=\"node\">\n<title>43</title>\n<polygon fill=\"none\" stroke=\"#000000\" points=\"3182,-53 3065,-53 3065,0 3182,0 3182,-53\"/>\n<text text-anchor=\"middle\" x=\"3123.5\" y=\"-37.8\" font-family=\"Times,serif\" font-size=\"14.00\" fill=\"#000000\">gini = 0.0</text>\n<text text-anchor=\"middle\" x=\"3123.5\" y=\"-22.8\" font-family=\"Times,serif\" font-size=\"14.00\" fill=\"#000000\">samples = 1738</text>\n<text text-anchor=\"middle\" x=\"3123.5\" y=\"-7.8\" font-family=\"Times,serif\" font-size=\"14.00\" fill=\"#000000\">value = [1738, 0]</text>\n</g>\n<!-- 42&#45;&gt;43 -->\n<g id=\"edge43\" class=\"edge\">\n<title>42&#45;&gt;43</title>\n<path fill=\"none\" stroke=\"#000000\" d=\"M3158.4616,-88.9777C3153.5937,-80.2786 3148.3466,-70.9018 3143.435,-62.1247\"/>\n<polygon fill=\"#000000\" stroke=\"#000000\" points=\"3146.4057,-60.2659 3138.4681,-53.2485 3140.2971,-63.6843 3146.4057,-60.2659\"/>\n</g>\n<!-- 44 -->\n<g id=\"node45\" class=\"node\">\n<title>44</title>\n<polygon fill=\"none\" stroke=\"#000000\" points=\"3325,-53 3200,-53 3200,0 3325,0 3325,-53\"/>\n<text text-anchor=\"middle\" x=\"3262.5\" y=\"-37.8\" font-family=\"Times,serif\" font-size=\"14.00\" fill=\"#000000\">gini = 0.049</text>\n<text text-anchor=\"middle\" x=\"3262.5\" y=\"-22.8\" font-family=\"Times,serif\" font-size=\"14.00\" fill=\"#000000\">samples = 1105</text>\n<text text-anchor=\"middle\" x=\"3262.5\" y=\"-7.8\" font-family=\"Times,serif\" font-size=\"14.00\" fill=\"#000000\">value = [1077, 28]</text>\n</g>\n<!-- 42&#45;&gt;44 -->\n<g id=\"edge44\" class=\"edge\">\n<title>42&#45;&gt;44</title>\n<path fill=\"none\" stroke=\"#000000\" d=\"M3207.4678,-88.9777C3215.4529,-79.9123 3224.0862,-70.111 3232.0944,-61.0192\"/>\n<polygon fill=\"#000000\" stroke=\"#000000\" points=\"3234.9558,-63.066 3238.9392,-53.2485 3229.7029,-58.4391 3234.9558,-63.066\"/>\n</g>\n<!-- 46 -->\n<g id=\"node47\" class=\"node\">\n<title>46</title>\n<polygon fill=\"none\" stroke=\"#000000\" points=\"3468,-53 3343,-53 3343,0 3468,0 3468,-53\"/>\n<text text-anchor=\"middle\" x=\"3405.5\" y=\"-37.8\" font-family=\"Times,serif\" font-size=\"14.00\" fill=\"#000000\">gini = 0.274</text>\n<text text-anchor=\"middle\" x=\"3405.5\" y=\"-22.8\" font-family=\"Times,serif\" font-size=\"14.00\" fill=\"#000000\">samples = 658</text>\n<text text-anchor=\"middle\" x=\"3405.5\" y=\"-7.8\" font-family=\"Times,serif\" font-size=\"14.00\" fill=\"#000000\">value = [550, 108]</text>\n</g>\n<!-- 45&#45;&gt;46 -->\n<g id=\"edge46\" class=\"edge\">\n<title>45&#45;&gt;46</title>\n<path fill=\"none\" stroke=\"#000000\" d=\"M3405.5,-88.9777C3405.5,-80.7364 3405.5,-71.887 3405.5,-63.5153\"/>\n<polygon fill=\"#000000\" stroke=\"#000000\" points=\"3409.0001,-63.2484 3405.5,-53.2485 3402.0001,-63.2485 3409.0001,-63.2484\"/>\n</g>\n<!-- 47 -->\n<g id=\"node48\" class=\"node\">\n<title>47</title>\n<polygon fill=\"none\" stroke=\"#000000\" points=\"3596.5,-53 3486.5,-53 3486.5,0 3596.5,0 3596.5,-53\"/>\n<text text-anchor=\"middle\" x=\"3541.5\" y=\"-37.8\" font-family=\"Times,serif\" font-size=\"14.00\" fill=\"#000000\">gini = 0.0</text>\n<text text-anchor=\"middle\" x=\"3541.5\" y=\"-22.8\" font-family=\"Times,serif\" font-size=\"14.00\" fill=\"#000000\">samples = 471</text>\n<text text-anchor=\"middle\" x=\"3541.5\" y=\"-7.8\" font-family=\"Times,serif\" font-size=\"14.00\" fill=\"#000000\">value = [471, 0]</text>\n</g>\n<!-- 45&#45;&gt;47 -->\n<g id=\"edge47\" class=\"edge\">\n<title>45&#45;&gt;47</title>\n<path fill=\"none\" stroke=\"#000000\" d=\"M3453.4485,-88.9777C3467.128,-79.2713 3481.9964,-68.7213 3495.5534,-59.1018\"/>\n<polygon fill=\"#000000\" stroke=\"#000000\" points=\"3497.6725,-61.8898 3503.8027,-53.2485 3493.6217,-56.1809 3497.6725,-61.8898\"/>\n</g>\n<!-- 49 -->\n<g id=\"node50\" class=\"node\">\n<title>49</title>\n<polygon fill=\"none\" stroke=\"#000000\" points=\"4028.5,-261 3844.5,-261 3844.5,-193 4028.5,-193 4028.5,-261\"/>\n<text text-anchor=\"middle\" x=\"3936.5\" y=\"-245.8\" font-family=\"Times,serif\" font-size=\"14.00\" fill=\"#000000\">total_pages_visited &lt;= 0.484</text>\n<text text-anchor=\"middle\" x=\"3936.5\" y=\"-230.8\" font-family=\"Times,serif\" font-size=\"14.00\" fill=\"#000000\">gini = 0.056</text>\n<text text-anchor=\"middle\" x=\"3936.5\" y=\"-215.8\" font-family=\"Times,serif\" font-size=\"14.00\" fill=\"#000000\">samples = 211895</text>\n<text text-anchor=\"middle\" x=\"3936.5\" y=\"-200.8\" font-family=\"Times,serif\" font-size=\"14.00\" fill=\"#000000\">value = [6127, 205768]</text>\n</g>\n<!-- 48&#45;&gt;49 -->\n<g id=\"edge49\" class=\"edge\">\n<title>48&#45;&gt;49</title>\n<path fill=\"none\" stroke=\"#000000\" d=\"M3936.5,-296.9465C3936.5,-288.776 3936.5,-279.9318 3936.5,-271.3697\"/>\n<polygon fill=\"#000000\" stroke=\"#000000\" points=\"3940.0001,-271.13 3936.5,-261.13 3933.0001,-271.13 3940.0001,-271.13\"/>\n</g>\n<!-- 56 -->\n<g id=\"node57\" class=\"node\">\n<title>56</title>\n<polygon fill=\"none\" stroke=\"#000000\" points=\"4495.5,-261 4311.5,-261 4311.5,-193 4495.5,-193 4495.5,-261\"/>\n<text text-anchor=\"middle\" x=\"4403.5\" y=\"-245.8\" font-family=\"Times,serif\" font-size=\"14.00\" fill=\"#000000\">total_pages_visited &lt;= 0.484</text>\n<text text-anchor=\"middle\" x=\"4403.5\" y=\"-230.8\" font-family=\"Times,serif\" font-size=\"14.00\" fill=\"#000000\">gini = 0.497</text>\n<text text-anchor=\"middle\" x=\"4403.5\" y=\"-215.8\" font-family=\"Times,serif\" font-size=\"14.00\" fill=\"#000000\">samples = 4290</text>\n<text text-anchor=\"middle\" x=\"4403.5\" y=\"-200.8\" font-family=\"Times,serif\" font-size=\"14.00\" fill=\"#000000\">value = [1990, 2300]</text>\n</g>\n<!-- 48&#45;&gt;56 -->\n<g id=\"edge56\" class=\"edge\">\n<title>48&#45;&gt;56</title>\n<path fill=\"none\" stroke=\"#000000\" d=\"M4017.0459,-313.0626C4095.7296,-295.5399 4215.7883,-268.803 4301.188,-249.7847\"/>\n<polygon fill=\"#000000\" stroke=\"#000000\" points=\"4302.1641,-253.1531 4311.1642,-247.563 4300.6425,-246.3205 4302.1641,-253.1531\"/>\n</g>\n<!-- 50 -->\n<g id=\"node51\" class=\"node\">\n<title>50</title>\n<polygon fill=\"none\" stroke=\"#000000\" points=\"3918,-157 3771,-157 3771,-89 3918,-89 3918,-157\"/>\n<text text-anchor=\"middle\" x=\"3844.5\" y=\"-141.8\" font-family=\"Times,serif\" font-size=\"14.00\" fill=\"#000000\">new_user &lt;= 0.006</text>\n<text text-anchor=\"middle\" x=\"3844.5\" y=\"-126.8\" font-family=\"Times,serif\" font-size=\"14.00\" fill=\"#000000\">gini = 0.191</text>\n<text text-anchor=\"middle\" x=\"3844.5\" y=\"-111.8\" font-family=\"Times,serif\" font-size=\"14.00\" fill=\"#000000\">samples = 41496</text>\n<text text-anchor=\"middle\" x=\"3844.5\" y=\"-96.8\" font-family=\"Times,serif\" font-size=\"14.00\" fill=\"#000000\">value = [4443, 37053]</text>\n</g>\n<!-- 49&#45;&gt;50 -->\n<g id=\"edge50\" class=\"edge\">\n<title>49&#45;&gt;50</title>\n<path fill=\"none\" stroke=\"#000000\" d=\"M3906.3758,-192.9465C3898.4332,-183.968 3889.7709,-174.1758 3881.511,-164.8385\"/>\n<polygon fill=\"#000000\" stroke=\"#000000\" points=\"3883.9392,-162.301 3874.6919,-157.13 3878.6962,-166.939 3883.9392,-162.301\"/>\n</g>\n<!-- 53 -->\n<g id=\"node54\" class=\"node\">\n<title>53</title>\n<polygon fill=\"none\" stroke=\"#000000\" points=\"4120.5,-157 3936.5,-157 3936.5,-89 4120.5,-89 4120.5,-157\"/>\n<text text-anchor=\"middle\" x=\"4028.5\" y=\"-141.8\" font-family=\"Times,serif\" font-size=\"14.00\" fill=\"#000000\">total_pages_visited &lt;= 0.814</text>\n<text text-anchor=\"middle\" x=\"4028.5\" y=\"-126.8\" font-family=\"Times,serif\" font-size=\"14.00\" fill=\"#000000\">gini = 0.02</text>\n<text text-anchor=\"middle\" x=\"4028.5\" y=\"-111.8\" font-family=\"Times,serif\" font-size=\"14.00\" fill=\"#000000\">samples = 170399</text>\n<text text-anchor=\"middle\" x=\"4028.5\" y=\"-96.8\" font-family=\"Times,serif\" font-size=\"14.00\" fill=\"#000000\">value = [1684, 168715]</text>\n</g>\n<!-- 49&#45;&gt;53 -->\n<g id=\"edge53\" class=\"edge\">\n<title>49&#45;&gt;53</title>\n<path fill=\"none\" stroke=\"#000000\" d=\"M3966.6242,-192.9465C3974.5668,-183.968 3983.2291,-174.1758 3991.489,-164.8385\"/>\n<polygon fill=\"#000000\" stroke=\"#000000\" points=\"3994.3038,-166.939 3998.3081,-157.13 3989.0608,-162.301 3994.3038,-166.939\"/>\n</g>\n<!-- 51 -->\n<g id=\"node52\" class=\"node\">\n<title>51</title>\n<polygon fill=\"none\" stroke=\"#000000\" points=\"3762,-53 3615,-53 3615,0 3762,0 3762,-53\"/>\n<text text-anchor=\"middle\" x=\"3688.5\" y=\"-37.8\" font-family=\"Times,serif\" font-size=\"14.00\" fill=\"#000000\">gini = 0.094</text>\n<text text-anchor=\"middle\" x=\"3688.5\" y=\"-22.8\" font-family=\"Times,serif\" font-size=\"14.00\" fill=\"#000000\">samples = 27614</text>\n<text text-anchor=\"middle\" x=\"3688.5\" y=\"-7.8\" font-family=\"Times,serif\" font-size=\"14.00\" fill=\"#000000\">value = [1361, 26253]</text>\n</g>\n<!-- 50&#45;&gt;51 -->\n<g id=\"edge51\" class=\"edge\">\n<title>50&#45;&gt;51</title>\n<path fill=\"none\" stroke=\"#000000\" d=\"M3789.5002,-88.9777C3773.513,-79.0882 3756.11,-68.3229 3740.3249,-58.5583\"/>\n<polygon fill=\"#000000\" stroke=\"#000000\" points=\"3742.0867,-55.5327 3731.7411,-53.2485 3738.4042,-61.4858 3742.0867,-55.5327\"/>\n</g>\n<!-- 52 -->\n<g id=\"node53\" class=\"node\">\n<title>52</title>\n<polygon fill=\"none\" stroke=\"#000000\" points=\"3927,-53 3780,-53 3780,0 3927,0 3927,-53\"/>\n<text text-anchor=\"middle\" x=\"3853.5\" y=\"-37.8\" font-family=\"Times,serif\" font-size=\"14.00\" fill=\"#000000\">gini = 0.345</text>\n<text text-anchor=\"middle\" x=\"3853.5\" y=\"-22.8\" font-family=\"Times,serif\" font-size=\"14.00\" fill=\"#000000\">samples = 13882</text>\n<text text-anchor=\"middle\" x=\"3853.5\" y=\"-7.8\" font-family=\"Times,serif\" font-size=\"14.00\" fill=\"#000000\">value = [3082, 10800]</text>\n</g>\n<!-- 50&#45;&gt;52 -->\n<g id=\"edge52\" class=\"edge\">\n<title>50&#45;&gt;52</title>\n<path fill=\"none\" stroke=\"#000000\" d=\"M3847.6731,-88.9777C3848.4502,-80.6449 3849.2854,-71.6903 3850.0738,-63.2364\"/>\n<polygon fill=\"#000000\" stroke=\"#000000\" points=\"3853.5615,-63.5303 3851.0053,-53.2485 3846.5917,-62.8802 3853.5615,-63.5303\"/>\n</g>\n<!-- 54 -->\n<g id=\"node55\" class=\"node\">\n<title>54</title>\n<polygon fill=\"none\" stroke=\"#000000\" points=\"4092,-53 3945,-53 3945,0 4092,0 4092,-53\"/>\n<text text-anchor=\"middle\" x=\"4018.5\" y=\"-37.8\" font-family=\"Times,serif\" font-size=\"14.00\" fill=\"#000000\">gini = 0.054</text>\n<text text-anchor=\"middle\" x=\"4018.5\" y=\"-22.8\" font-family=\"Times,serif\" font-size=\"14.00\" fill=\"#000000\">samples = 49017</text>\n<text text-anchor=\"middle\" x=\"4018.5\" y=\"-7.8\" font-family=\"Times,serif\" font-size=\"14.00\" fill=\"#000000\">value = [1352, 47665]</text>\n</g>\n<!-- 53&#45;&gt;54 -->\n<g id=\"edge54\" class=\"edge\">\n<title>53&#45;&gt;54</title>\n<path fill=\"none\" stroke=\"#000000\" d=\"M4024.9744,-88.9777C4024.1109,-80.6449 4023.1829,-71.6903 4022.3069,-63.2364\"/>\n<polygon fill=\"#000000\" stroke=\"#000000\" points=\"4025.7841,-62.8344 4021.2719,-53.2485 4018.8213,-63.556 4025.7841,-62.8344\"/>\n</g>\n<!-- 55 -->\n<g id=\"node56\" class=\"node\">\n<title>55</title>\n<polygon fill=\"none\" stroke=\"#000000\" points=\"4257,-53 4110,-53 4110,0 4257,0 4257,-53\"/>\n<text text-anchor=\"middle\" x=\"4183.5\" y=\"-37.8\" font-family=\"Times,serif\" font-size=\"14.00\" fill=\"#000000\">gini = 0.005</text>\n<text text-anchor=\"middle\" x=\"4183.5\" y=\"-22.8\" font-family=\"Times,serif\" font-size=\"14.00\" fill=\"#000000\">samples = 121382</text>\n<text text-anchor=\"middle\" x=\"4183.5\" y=\"-7.8\" font-family=\"Times,serif\" font-size=\"14.00\" fill=\"#000000\">value = [332, 121050]</text>\n</g>\n<!-- 53&#45;&gt;55 -->\n<g id=\"edge55\" class=\"edge\">\n<title>53&#45;&gt;55</title>\n<path fill=\"none\" stroke=\"#000000\" d=\"M4083.1472,-88.9777C4099.0319,-79.0882 4116.3233,-68.3229 4132.0073,-58.5583\"/>\n<polygon fill=\"#000000\" stroke=\"#000000\" points=\"4133.8967,-61.505 4140.5361,-53.2485 4130.1971,-55.5625 4133.8967,-61.505\"/>\n</g>\n<!-- 57 -->\n<g id=\"node58\" class=\"node\">\n<title>57</title>\n<polygon fill=\"none\" stroke=\"#000000\" points=\"4469.5,-157 4337.5,-157 4337.5,-89 4469.5,-89 4469.5,-157\"/>\n<text text-anchor=\"middle\" x=\"4403.5\" y=\"-141.8\" font-family=\"Times,serif\" font-size=\"14.00\" fill=\"#000000\">new_user &lt;= 0.006</text>\n<text text-anchor=\"middle\" x=\"4403.5\" y=\"-126.8\" font-family=\"Times,serif\" font-size=\"14.00\" fill=\"#000000\">gini = 0.362</text>\n<text text-anchor=\"middle\" x=\"4403.5\" y=\"-111.8\" font-family=\"Times,serif\" font-size=\"14.00\" fill=\"#000000\">samples = 1892</text>\n<text text-anchor=\"middle\" x=\"4403.5\" y=\"-96.8\" font-family=\"Times,serif\" font-size=\"14.00\" fill=\"#000000\">value = [1443, 449]</text>\n</g>\n<!-- 56&#45;&gt;57 -->\n<g id=\"edge57\" class=\"edge\">\n<title>56&#45;&gt;57</title>\n<path fill=\"none\" stroke=\"#000000\" d=\"M4403.5,-192.9465C4403.5,-184.776 4403.5,-175.9318 4403.5,-167.3697\"/>\n<polygon fill=\"#000000\" stroke=\"#000000\" points=\"4407.0001,-167.13 4403.5,-157.13 4400.0001,-167.13 4407.0001,-167.13\"/>\n</g>\n<!-- 60 -->\n<g id=\"node61\" class=\"node\">\n<title>60</title>\n<polygon fill=\"none\" stroke=\"#000000\" points=\"4685.5,-157 4553.5,-157 4553.5,-89 4685.5,-89 4685.5,-157\"/>\n<text text-anchor=\"middle\" x=\"4619.5\" y=\"-141.8\" font-family=\"Times,serif\" font-size=\"14.00\" fill=\"#000000\">age &lt;= 0.898</text>\n<text text-anchor=\"middle\" x=\"4619.5\" y=\"-126.8\" font-family=\"Times,serif\" font-size=\"14.00\" fill=\"#000000\">gini = 0.352</text>\n<text text-anchor=\"middle\" x=\"4619.5\" y=\"-111.8\" font-family=\"Times,serif\" font-size=\"14.00\" fill=\"#000000\">samples = 2398</text>\n<text text-anchor=\"middle\" x=\"4619.5\" y=\"-96.8\" font-family=\"Times,serif\" font-size=\"14.00\" fill=\"#000000\">value = [547, 1851]</text>\n</g>\n<!-- 56&#45;&gt;60 -->\n<g id=\"edge60\" class=\"edge\">\n<title>56&#45;&gt;60</title>\n<path fill=\"none\" stroke=\"#000000\" d=\"M4474.2265,-192.9465C4496.611,-182.1688 4521.4304,-170.2187 4544.1278,-159.2903\"/>\n<polygon fill=\"#000000\" stroke=\"#000000\" points=\"4545.8851,-162.3289 4553.3767,-154.8371 4542.8483,-156.0218 4545.8851,-162.3289\"/>\n</g>\n<!-- 58 -->\n<g id=\"node59\" class=\"node\">\n<title>58</title>\n<polygon fill=\"none\" stroke=\"#000000\" points=\"4400,-53 4275,-53 4275,0 4400,0 4400,-53\"/>\n<text text-anchor=\"middle\" x=\"4337.5\" y=\"-37.8\" font-family=\"Times,serif\" font-size=\"14.00\" fill=\"#000000\">gini = 0.493</text>\n<text text-anchor=\"middle\" x=\"4337.5\" y=\"-22.8\" font-family=\"Times,serif\" font-size=\"14.00\" fill=\"#000000\">samples = 820</text>\n<text text-anchor=\"middle\" x=\"4337.5\" y=\"-7.8\" font-family=\"Times,serif\" font-size=\"14.00\" fill=\"#000000\">value = [458, 362]</text>\n</g>\n<!-- 57&#45;&gt;58 -->\n<g id=\"edge58\" class=\"edge\">\n<title>57&#45;&gt;58</title>\n<path fill=\"none\" stroke=\"#000000\" d=\"M4380.2309,-88.9777C4374.156,-80.0954 4367.5979,-70.5067 4361.4865,-61.5711\"/>\n<polygon fill=\"#000000\" stroke=\"#000000\" points=\"4364.3286,-59.5267 4355.7943,-53.2485 4358.5507,-63.4785 4364.3286,-59.5267\"/>\n</g>\n<!-- 59 -->\n<g id=\"node60\" class=\"node\">\n<title>59</title>\n<polygon fill=\"none\" stroke=\"#000000\" points=\"4535,-53 4418,-53 4418,0 4535,0 4535,-53\"/>\n<text text-anchor=\"middle\" x=\"4476.5\" y=\"-37.8\" font-family=\"Times,serif\" font-size=\"14.00\" fill=\"#000000\">gini = 0.149</text>\n<text text-anchor=\"middle\" x=\"4476.5\" y=\"-22.8\" font-family=\"Times,serif\" font-size=\"14.00\" fill=\"#000000\">samples = 1072</text>\n<text text-anchor=\"middle\" x=\"4476.5\" y=\"-7.8\" font-family=\"Times,serif\" font-size=\"14.00\" fill=\"#000000\">value = [985, 87]</text>\n</g>\n<!-- 57&#45;&gt;59 -->\n<g id=\"edge59\" class=\"edge\">\n<title>57&#45;&gt;59</title>\n<path fill=\"none\" stroke=\"#000000\" d=\"M4429.2371,-88.9777C4436.0256,-80.0039 4443.3596,-70.3089 4450.1784,-61.295\"/>\n<polygon fill=\"#000000\" stroke=\"#000000\" points=\"4453.0237,-63.3352 4456.2654,-53.2485 4447.441,-59.1121 4453.0237,-63.3352\"/>\n</g>\n<!-- 61 -->\n<g id=\"node62\" class=\"node\">\n<title>61</title>\n<polygon fill=\"none\" stroke=\"#000000\" points=\"4685.5,-53 4553.5,-53 4553.5,0 4685.5,0 4685.5,-53\"/>\n<text text-anchor=\"middle\" x=\"4619.5\" y=\"-37.8\" font-family=\"Times,serif\" font-size=\"14.00\" fill=\"#000000\">gini = 0.29</text>\n<text text-anchor=\"middle\" x=\"4619.5\" y=\"-22.8\" font-family=\"Times,serif\" font-size=\"14.00\" fill=\"#000000\">samples = 2178</text>\n<text text-anchor=\"middle\" x=\"4619.5\" y=\"-7.8\" font-family=\"Times,serif\" font-size=\"14.00\" fill=\"#000000\">value = [383, 1795]</text>\n</g>\n<!-- 60&#45;&gt;61 -->\n<g id=\"edge61\" class=\"edge\">\n<title>60&#45;&gt;61</title>\n<path fill=\"none\" stroke=\"#000000\" d=\"M4619.5,-88.9777C4619.5,-80.7364 4619.5,-71.887 4619.5,-63.5153\"/>\n<polygon fill=\"#000000\" stroke=\"#000000\" points=\"4623.0001,-63.2484 4619.5,-53.2485 4616.0001,-63.2485 4623.0001,-63.2484\"/>\n</g>\n<!-- 62 -->\n<g id=\"node63\" class=\"node\">\n<title>62</title>\n<polygon fill=\"none\" stroke=\"#000000\" points=\"4821,-53 4704,-53 4704,0 4821,0 4821,-53\"/>\n<text text-anchor=\"middle\" x=\"4762.5\" y=\"-37.8\" font-family=\"Times,serif\" font-size=\"14.00\" fill=\"#000000\">gini = 0.38</text>\n<text text-anchor=\"middle\" x=\"4762.5\" y=\"-22.8\" font-family=\"Times,serif\" font-size=\"14.00\" fill=\"#000000\">samples = 220</text>\n<text text-anchor=\"middle\" x=\"4762.5\" y=\"-7.8\" font-family=\"Times,serif\" font-size=\"14.00\" fill=\"#000000\">value = [164, 56]</text>\n</g>\n<!-- 60&#45;&gt;62 -->\n<g id=\"edge62\" class=\"edge\">\n<title>60&#45;&gt;62</title>\n<path fill=\"none\" stroke=\"#000000\" d=\"M4669.9165,-88.9777C4684.3,-79.2713 4699.9337,-68.7213 4714.1885,-59.1018\"/>\n<polygon fill=\"#000000\" stroke=\"#000000\" points=\"4716.531,-61.7435 4722.8624,-53.2485 4712.6154,-55.941 4716.531,-61.7435\"/>\n</g>\n</g>\n</svg>\n"
          },
          "metadata": {
            "tags": []
          },
          "execution_count": 46
        }
      ]
    },
    {
      "cell_type": "code",
      "metadata": {
        "id": "WPSFxHaS9xrS",
        "colab_type": "code",
        "colab": {}
      },
      "source": [
        "y_pred = clf.predict(X_test)"
      ],
      "execution_count": null,
      "outputs": []
    },
    {
      "cell_type": "code",
      "metadata": {
        "id": "KAFGUHZpymUs",
        "colab_type": "code",
        "colab": {
          "base_uri": "https://localhost:8080/",
          "height": 482
        },
        "outputId": "a7f533ae-3c0a-42f5-f7e4-080c0a1499be"
      },
      "source": [
        "print(classification_report(y_test,y_pred))\n",
        "\n",
        "cm = confusion_matrix(y_test, y_pred)\n",
        "plt.figure(figsize=(10, 5))\n",
        "sns.heatmap(cm, annot=True, fmt=\"d\")"
      ],
      "execution_count": null,
      "outputs": [
        {
          "output_type": "stream",
          "text": [
            "              precision    recall  f1-score   support\n",
            "\n",
            "           0       1.00      0.93      0.96     60970\n",
            "           1       0.31      0.94      0.46      2039\n",
            "\n",
            "    accuracy                           0.93     63009\n",
            "   macro avg       0.65      0.94      0.71     63009\n",
            "weighted avg       0.98      0.93      0.95     63009\n",
            "\n"
          ],
          "name": "stdout"
        },
        {
          "output_type": "execute_result",
          "data": {
            "text/plain": [
              "<matplotlib.axes._subplots.AxesSubplot at 0x7fb4a814acf8>"
            ]
          },
          "metadata": {
            "tags": []
          },
          "execution_count": 48
        },
        {
          "output_type": "display_data",
          "data": {
            "image/png": "[encoded data removed]",
            "text/plain": [
              "<Figure size 720x360 with 2 Axes>"
            ]
          },
          "metadata": {
            "tags": [],
            "needs_background": "light"
          }
        }
      ]
    },
    {
      "cell_type": "code",
      "metadata": {
        "id": "V4aT21U3-Oue",
        "colab_type": "code",
        "colab": {
          "base_uri": "https://localhost:8080/",
          "height": 335
        },
        "outputId": "8437084e-f405-4bcd-8b79-323fb510b01c"
      },
      "source": [
        "feature_importance = pd.DataFrame({\"features\": df2.columns[:-1], \"score\": clf.feature_importances_}).sort_values(by=\"score\", ascending=False)\n",
        "feature_importance"
      ],
      "execution_count": null,
      "outputs": [
        {
          "output_type": "execute_result",
          "data": {
            "text/html": [
              "<div>\n",
              "<style scoped>\n",
              "    .dataframe tbody tr th:only-of-type {\n",
              "        vertical-align: middle;\n",
              "    }\n",
              "\n",
              "    .dataframe tbody tr th {\n",
              "        vertical-align: top;\n",
              "    }\n",
              "\n",
              "    .dataframe thead th {\n",
              "        text-align: right;\n",
              "    }\n",
              "</style>\n",
              "<table border=\"1\" class=\"dataframe\">\n",
              "  <thead>\n",
              "    <tr style=\"text-align: right;\">\n",
              "      <th></th>\n",
              "      <th>features</th>\n",
              "      <th>score</th>\n",
              "    </tr>\n",
              "  </thead>\n",
              "  <tbody>\n",
              "    <tr>\n",
              "      <th>9</th>\n",
              "      <td>total_pages_visited</td>\n",
              "      <td>0.940588</td>\n",
              "    </tr>\n",
              "    <tr>\n",
              "      <th>0</th>\n",
              "      <td>country_China</td>\n",
              "      <td>0.026205</td>\n",
              "    </tr>\n",
              "    <tr>\n",
              "      <th>5</th>\n",
              "      <td>new_user</td>\n",
              "      <td>0.025183</td>\n",
              "    </tr>\n",
              "    <tr>\n",
              "      <th>4</th>\n",
              "      <td>age</td>\n",
              "      <td>0.007965</td>\n",
              "    </tr>\n",
              "    <tr>\n",
              "      <th>6</th>\n",
              "      <td>source_Ads</td>\n",
              "      <td>0.000060</td>\n",
              "    </tr>\n",
              "    <tr>\n",
              "      <th>1</th>\n",
              "      <td>country_Germany</td>\n",
              "      <td>0.000000</td>\n",
              "    </tr>\n",
              "    <tr>\n",
              "      <th>2</th>\n",
              "      <td>country_UK</td>\n",
              "      <td>0.000000</td>\n",
              "    </tr>\n",
              "    <tr>\n",
              "      <th>3</th>\n",
              "      <td>country_US</td>\n",
              "      <td>0.000000</td>\n",
              "    </tr>\n",
              "    <tr>\n",
              "      <th>7</th>\n",
              "      <td>source_Direct</td>\n",
              "      <td>0.000000</td>\n",
              "    </tr>\n",
              "    <tr>\n",
              "      <th>8</th>\n",
              "      <td>source_Seo</td>\n",
              "      <td>0.000000</td>\n",
              "    </tr>\n",
              "  </tbody>\n",
              "</table>\n",
              "</div>"
            ],
            "text/plain": [
              "              features     score\n",
              "9  total_pages_visited  0.940588\n",
              "0        country_China  0.026205\n",
              "5             new_user  0.025183\n",
              "4                  age  0.007965\n",
              "6           source_Ads  0.000060\n",
              "1      country_Germany  0.000000\n",
              "2           country_UK  0.000000\n",
              "3           country_US  0.000000\n",
              "7        source_Direct  0.000000\n",
              "8           source_Seo  0.000000"
            ]
          },
          "metadata": {
            "tags": []
          },
          "execution_count": 49
        }
      ]
    },
    {
      "cell_type": "code",
      "metadata": {
        "id": "kHUaKiBZ-SKk",
        "colab_type": "code",
        "colab": {
          "base_uri": "https://localhost:8080/",
          "height": 385
        },
        "outputId": "a373a05a-84c4-4b83-bbc4-1cabbbbd00e5"
      },
      "source": [
        "sns.catplot(x=\"score\",y=\"features\", data=feature_importance, kind=\"bar\" )"
      ],
      "execution_count": null,
      "outputs": [
        {
          "output_type": "execute_result",
          "data": {
            "text/plain": [
              "<seaborn.axisgrid.FacetGrid at 0x7fb4a8036d30>"
            ]
          },
          "metadata": {
            "tags": []
          },
          "execution_count": 50
        },
        {
          "output_type": "display_data",
          "data": {
            "image/png": "[encoded data removed]",
            "text/plain": [
              "<Figure size 360x360 with 1 Axes>"
            ]
          },
          "metadata": {
            "tags": [],
            "needs_background": "light"
          }
        }
      ]
    },
    {
      "cell_type": "markdown",
      "metadata": {
        "id": "vr8BLQK6-W26",
        "colab_type": "text"
      },
      "source": [
        "#**Modele Training 3 SVM**"
      ]
    },
    {
      "cell_type": "code",
      "metadata": {
        "id": "RwKZJDHG1uE5",
        "colab_type": "code",
        "colab": {
          "base_uri": "https://localhost:8080/",
          "height": 33
        },
        "outputId": "08d4546a-4d4b-4477-df03-e69e887a8cc1"
      },
      "source": [
        "from sklearn.svm import SVC\n",
        "from sklearn import metrics\n",
        "modele = SVC(kernel='rbf')\n",
        "modele_SVC=modele.fit(X_train,y_train.values.ravel())\n",
        "y_pred=modele_SVC.predict(X_test)\n",
        "SVC_score=metrics.accuracy_score(y_test,y_pred)\n",
        "print(SVC_score)"
      ],
      "execution_count": null,
      "outputs": [
        {
          "output_type": "stream",
          "text": [
            "0.9431351076830294\n"
          ],
          "name": "stdout"
        }
      ]
    },
    {
      "cell_type": "code",
      "metadata": {
        "id": "688yojt8lZcB",
        "colab_type": "code",
        "colab": {
          "base_uri": "https://localhost:8080/",
          "height": 482
        },
        "outputId": "a03e3739-b0b2-45f0-cfe0-ff40b85836b6"
      },
      "source": [
        "print(classification_report(y_test,y_pred))\n",
        "\n",
        "cm = confusion_matrix(y_test, y_pred)\n",
        "plt.figure(figsize=(10, 5))\n",
        "sns.heatmap(cm, annot=True, fmt=\"d\")"
      ],
      "execution_count": null,
      "outputs": [
        {
          "output_type": "stream",
          "text": [
            "              precision    recall  f1-score   support\n",
            "\n",
            "           0       1.00      0.94      0.97     60970\n",
            "           1       0.36      0.93      0.52      2039\n",
            "\n",
            "    accuracy                           0.94     63009\n",
            "   macro avg       0.68      0.94      0.74     63009\n",
            "weighted avg       0.98      0.94      0.96     63009\n",
            "\n"
          ],
          "name": "stdout"
        },
        {
          "output_type": "execute_result",
          "data": {
            "text/plain": [
              "<matplotlib.axes._subplots.AxesSubplot at 0x7fb4a7fdf6a0>"
            ]
          },
          "metadata": {
            "tags": []
          },
          "execution_count": 52
        },
        {
          "output_type": "display_data",
          "data": {
            "image/png": "[encoded data removed]",
            "text/plain": [
              "<Figure size 720x360 with 2 Axes>"
            ]
          },
          "metadata": {
            "tags": [],
            "needs_background": "light"
          }
        }
      ]
    },
    {
      "cell_type": "markdown",
      "metadata": {
        "id": "udabN6wK_sw6",
        "colab_type": "text"
      },
      "source": [
        "# **Model Training 4 Random forest**"
      ]
    },
    {
      "cell_type": "code",
      "metadata": {
        "id": "IXevcuBT2LI8",
        "colab_type": "code",
        "colab": {}
      },
      "source": [
        "from sklearn.ensemble import RandomForestClassifier\n",
        "\n",
        "rf_50 = RandomForestClassifier(n_estimators=50)\n",
        "rf_50_fit = rf_50.fit(X_train, y_train.values.ravel())"
      ],
      "execution_count": null,
      "outputs": []
    },
    {
      "cell_type": "code",
      "metadata": {
        "id": "xcryeUBzAhJK",
        "colab_type": "code",
        "colab": {
          "base_uri": "https://localhost:8080/",
          "height": 33
        },
        "outputId": "20b05ade-84e8-4853-acbd-648056de55d1"
      },
      "source": [
        "rf_50.score(X_train, y_train)"
      ],
      "execution_count": null,
      "outputs": [
        {
          "output_type": "execute_result",
          "data": {
            "text/plain": [
              "0.9608292568916807"
            ]
          },
          "metadata": {
            "tags": []
          },
          "execution_count": 54
        }
      ]
    },
    {
      "cell_type": "code",
      "metadata": {
        "id": "4J_KuXQYAmRb",
        "colab_type": "code",
        "colab": {
          "base_uri": "https://localhost:8080/",
          "height": 33
        },
        "outputId": "bcf94d93-e8b4-40ad-d3e3-c7553f0d82ff"
      },
      "source": [
        "rf_50.score(X_test, y_test)"
      ],
      "execution_count": null,
      "outputs": [
        {
          "output_type": "execute_result",
          "data": {
            "text/plain": [
              "0.9437381961307115"
            ]
          },
          "metadata": {
            "tags": []
          },
          "execution_count": 55
        }
      ]
    },
    {
      "cell_type": "code",
      "metadata": {
        "id": "sqTQrhDi094Z",
        "colab_type": "code",
        "colab": {}
      },
      "source": [
        "y_pred = rf_50.predict(X_test)"
      ],
      "execution_count": null,
      "outputs": []
    },
    {
      "cell_type": "code",
      "metadata": {
        "id": "Eo7bzKtd1ALu",
        "colab_type": "code",
        "colab": {
          "base_uri": "https://localhost:8080/",
          "height": 482
        },
        "outputId": "15245177-fc2b-4a64-ed80-c44adbae21b1"
      },
      "source": [
        "print(classification_report(y_test,y_pred))\n",
        "\n",
        "cm = confusion_matrix(y_test, y_pred)\n",
        "plt.figure(figsize=(10, 5))\n",
        "sns.heatmap(cm, annot=True, fmt=\"d\")"
      ],
      "execution_count": null,
      "outputs": [
        {
          "output_type": "stream",
          "text": [
            "              precision    recall  f1-score   support\n",
            "\n",
            "           0       0.99      0.95      0.97     60970\n",
            "           1       0.35      0.85      0.50      2039\n",
            "\n",
            "    accuracy                           0.94     63009\n",
            "   macro avg       0.67      0.90      0.73     63009\n",
            "weighted avg       0.97      0.94      0.95     63009\n",
            "\n"
          ],
          "name": "stdout"
        },
        {
          "output_type": "execute_result",
          "data": {
            "text/plain": [
              "<matplotlib.axes._subplots.AxesSubplot at 0x7fb4a7c62208>"
            ]
          },
          "metadata": {
            "tags": []
          },
          "execution_count": 57
        },
        {
          "output_type": "display_data",
          "data": {
            "image/png": "[encoded data removed]",
            "text/plain": [
              "<Figure size 720x360 with 2 Axes>"
            ]
          },
          "metadata": {
            "tags": [],
            "needs_background": "light"
          }
        }
      ]
    },
    {
      "cell_type": "code",
      "metadata": {
        "id": "FWjVvGQnAvFn",
        "colab_type": "code",
        "colab": {
          "base_uri": "https://localhost:8080/",
          "height": 70
        },
        "outputId": "d3a023dd-875b-497e-a168-01dcef149c43"
      },
      "source": [
        "#Random Forest avec 20 arbres de décision\n",
        "\n",
        "rf_20 = RandomForestClassifier(n_estimators=20)\n",
        "rf_20_fit = rf_20.fit(X_train, y_train)"
      ],
      "execution_count": null,
      "outputs": [
        {
          "output_type": "stream",
          "text": [
            "/usr/local/lib/python3.6/dist-packages/ipykernel_launcher.py:4: DataConversionWarning: A column-vector y was passed when a 1d array was expected. Please change the shape of y to (n_samples,), for example using ravel().\n",
            "  after removing the cwd from sys.path.\n"
          ],
          "name": "stderr"
        }
      ]
    },
    {
      "cell_type": "code",
      "metadata": {
        "id": "ApX2LQNYBfA0",
        "colab_type": "code",
        "colab": {
          "base_uri": "https://localhost:8080/",
          "height": 33
        },
        "outputId": "03f01d47-9d4e-4474-827e-4417c3bab993"
      },
      "source": [
        "rf_20.score(X_train, y_train)"
      ],
      "execution_count": null,
      "outputs": [
        {
          "output_type": "execute_result",
          "data": {
            "text/plain": [
              "0.9607985041885182"
            ]
          },
          "metadata": {
            "tags": []
          },
          "execution_count": 59
        }
      ]
    },
    {
      "cell_type": "code",
      "metadata": {
        "id": "etU7o-TyBg3E",
        "colab_type": "code",
        "colab": {
          "base_uri": "https://localhost:8080/",
          "height": 33
        },
        "outputId": "430ce756-9751-4cfb-9fe7-3849c8e3c6c6"
      },
      "source": [
        "rf_20.score(X_test, y_test)"
      ],
      "execution_count": null,
      "outputs": [
        {
          "output_type": "execute_result",
          "data": {
            "text/plain": [
              "0.9438651621196972"
            ]
          },
          "metadata": {
            "tags": []
          },
          "execution_count": 60
        }
      ]
    },
    {
      "cell_type": "code",
      "metadata": {
        "id": "TtiqBbo90ZyU",
        "colab_type": "code",
        "colab": {}
      },
      "source": [
        "y_pred = rf_20.predict(X_test)"
      ],
      "execution_count": null,
      "outputs": []
    },
    {
      "cell_type": "code",
      "metadata": {
        "id": "xIAV0PKu0R6W",
        "colab_type": "code",
        "colab": {
          "base_uri": "https://localhost:8080/",
          "height": 482
        },
        "outputId": "73d93cc8-3bc0-4e63-9e0e-b2c80e8f187b"
      },
      "source": [
        "print(classification_report(y_test,y_pred))\n",
        "\n",
        "cm = confusion_matrix(y_test, y_pred)\n",
        "plt.figure(figsize=(10, 5))\n",
        "sns.heatmap(cm, annot=True, fmt=\"d\")"
      ],
      "execution_count": null,
      "outputs": [
        {
          "output_type": "stream",
          "text": [
            "              precision    recall  f1-score   support\n",
            "\n",
            "           0       0.99      0.95      0.97     60970\n",
            "           1       0.35      0.85      0.50      2039\n",
            "\n",
            "    accuracy                           0.94     63009\n",
            "   macro avg       0.67      0.90      0.73     63009\n",
            "weighted avg       0.97      0.94      0.95     63009\n",
            "\n"
          ],
          "name": "stdout"
        },
        {
          "output_type": "execute_result",
          "data": {
            "text/plain": [
              "<matplotlib.axes._subplots.AxesSubplot at 0x7fb4a7be2e10>"
            ]
          },
          "metadata": {
            "tags": []
          },
          "execution_count": 62
        },
        {
          "output_type": "display_data",
          "data": {
            "image/png": "[encoded data removed]",
            "text/plain": [
              "<Figure size 720x360 with 2 Axes>"
            ]
          },
          "metadata": {
            "tags": [],
            "needs_background": "light"
          }
        }
      ]
    },
    {
      "cell_type": "code",
      "metadata": {
        "id": "6WvpyYgcNMmK",
        "colab_type": "code",
        "colab": {
          "base_uri": "https://localhost:8080/",
          "height": 335
        },
        "outputId": "1c88bf27-7c38-4290-a72c-f08e0aed9ce1"
      },
      "source": [
        "feature_importance2 = pd.DataFrame({\"features\": df2.columns[:-1], \"score\": rf_50.feature_importances_}).sort_values(by=\"score\", ascending=False)\n",
        "feature_importance2"
      ],
      "execution_count": null,
      "outputs": [
        {
          "output_type": "execute_result",
          "data": {
            "text/html": [
              "<div>\n",
              "<style scoped>\n",
              "    .dataframe tbody tr th:only-of-type {\n",
              "        vertical-align: middle;\n",
              "    }\n",
              "\n",
              "    .dataframe tbody tr th {\n",
              "        vertical-align: top;\n",
              "    }\n",
              "\n",
              "    .dataframe thead th {\n",
              "        text-align: right;\n",
              "    }\n",
              "</style>\n",
              "<table border=\"1\" class=\"dataframe\">\n",
              "  <thead>\n",
              "    <tr style=\"text-align: right;\">\n",
              "      <th></th>\n",
              "      <th>features</th>\n",
              "      <th>score</th>\n",
              "    </tr>\n",
              "  </thead>\n",
              "  <tbody>\n",
              "    <tr>\n",
              "      <th>9</th>\n",
              "      <td>total_pages_visited</td>\n",
              "      <td>0.743309</td>\n",
              "    </tr>\n",
              "    <tr>\n",
              "      <th>5</th>\n",
              "      <td>new_user</td>\n",
              "      <td>0.100097</td>\n",
              "    </tr>\n",
              "    <tr>\n",
              "      <th>4</th>\n",
              "      <td>age</td>\n",
              "      <td>0.077358</td>\n",
              "    </tr>\n",
              "    <tr>\n",
              "      <th>0</th>\n",
              "      <td>country_China</td>\n",
              "      <td>0.058505</td>\n",
              "    </tr>\n",
              "    <tr>\n",
              "      <th>2</th>\n",
              "      <td>country_UK</td>\n",
              "      <td>0.006824</td>\n",
              "    </tr>\n",
              "    <tr>\n",
              "      <th>3</th>\n",
              "      <td>country_US</td>\n",
              "      <td>0.005138</td>\n",
              "    </tr>\n",
              "    <tr>\n",
              "      <th>1</th>\n",
              "      <td>country_Germany</td>\n",
              "      <td>0.004884</td>\n",
              "    </tr>\n",
              "    <tr>\n",
              "      <th>7</th>\n",
              "      <td>source_Direct</td>\n",
              "      <td>0.001329</td>\n",
              "    </tr>\n",
              "    <tr>\n",
              "      <th>6</th>\n",
              "      <td>source_Ads</td>\n",
              "      <td>0.001287</td>\n",
              "    </tr>\n",
              "    <tr>\n",
              "      <th>8</th>\n",
              "      <td>source_Seo</td>\n",
              "      <td>0.001268</td>\n",
              "    </tr>\n",
              "  </tbody>\n",
              "</table>\n",
              "</div>"
            ],
            "text/plain": [
              "              features     score\n",
              "9  total_pages_visited  0.743309\n",
              "5             new_user  0.100097\n",
              "4                  age  0.077358\n",
              "0        country_China  0.058505\n",
              "2           country_UK  0.006824\n",
              "3           country_US  0.005138\n",
              "1      country_Germany  0.004884\n",
              "7        source_Direct  0.001329\n",
              "6           source_Ads  0.001287\n",
              "8           source_Seo  0.001268"
            ]
          },
          "metadata": {
            "tags": []
          },
          "execution_count": 64
        }
      ]
    },
    {
      "cell_type": "code",
      "metadata": {
        "id": "REOm9mjONTDz",
        "colab_type": "code",
        "colab": {
          "base_uri": "https://localhost:8080/",
          "height": 385
        },
        "outputId": "30976209-3428-4efc-9204-b3f08480238b"
      },
      "source": [
        "sns.catplot(x=\"score\",y=\"features\", data=feature_importance2, kind=\"bar\")"
      ],
      "execution_count": null,
      "outputs": [
        {
          "output_type": "execute_result",
          "data": {
            "text/plain": [
              "<seaborn.axisgrid.FacetGrid at 0x7fb4a800efd0>"
            ]
          },
          "metadata": {
            "tags": []
          },
          "execution_count": 65
        },
        {
          "output_type": "display_data",
          "data": {
            "image/png": "[encoded data removed]",
            "text/plain": [
              "<Figure size 360x360 with 1 Axes>"
            ]
          },
          "metadata": {
            "tags": [],
            "needs_background": "light"
          }
        }
      ]
    },
    {
      "cell_type": "code",
      "metadata": {
        "id": "-ies8rGHNPoB",
        "colab_type": "code",
        "colab": {
          "base_uri": "https://localhost:8080/",
          "height": 335
        },
        "outputId": "aa0ab81f-2556-476b-d0d2-5d4419dfe478"
      },
      "source": [
        "feature_importance3 = pd.DataFrame({\"features\": df2.columns[:-1], \"score\": rf_20.feature_importances_}).sort_values(by=\"score\", ascending=False)\n",
        "feature_importance3"
      ],
      "execution_count": null,
      "outputs": [
        {
          "output_type": "execute_result",
          "data": {
            "text/html": [
              "<div>\n",
              "<style scoped>\n",
              "    .dataframe tbody tr th:only-of-type {\n",
              "        vertical-align: middle;\n",
              "    }\n",
              "\n",
              "    .dataframe tbody tr th {\n",
              "        vertical-align: top;\n",
              "    }\n",
              "\n",
              "    .dataframe thead th {\n",
              "        text-align: right;\n",
              "    }\n",
              "</style>\n",
              "<table border=\"1\" class=\"dataframe\">\n",
              "  <thead>\n",
              "    <tr style=\"text-align: right;\">\n",
              "      <th></th>\n",
              "      <th>features</th>\n",
              "      <th>score</th>\n",
              "    </tr>\n",
              "  </thead>\n",
              "  <tbody>\n",
              "    <tr>\n",
              "      <th>9</th>\n",
              "      <td>total_pages_visited</td>\n",
              "      <td>0.742010</td>\n",
              "    </tr>\n",
              "    <tr>\n",
              "      <th>5</th>\n",
              "      <td>new_user</td>\n",
              "      <td>0.088475</td>\n",
              "    </tr>\n",
              "    <tr>\n",
              "      <th>0</th>\n",
              "      <td>country_China</td>\n",
              "      <td>0.081275</td>\n",
              "    </tr>\n",
              "    <tr>\n",
              "      <th>4</th>\n",
              "      <td>age</td>\n",
              "      <td>0.074101</td>\n",
              "    </tr>\n",
              "    <tr>\n",
              "      <th>2</th>\n",
              "      <td>country_UK</td>\n",
              "      <td>0.004422</td>\n",
              "    </tr>\n",
              "    <tr>\n",
              "      <th>3</th>\n",
              "      <td>country_US</td>\n",
              "      <td>0.003876</td>\n",
              "    </tr>\n",
              "    <tr>\n",
              "      <th>1</th>\n",
              "      <td>country_Germany</td>\n",
              "      <td>0.001798</td>\n",
              "    </tr>\n",
              "    <tr>\n",
              "      <th>8</th>\n",
              "      <td>source_Seo</td>\n",
              "      <td>0.001422</td>\n",
              "    </tr>\n",
              "    <tr>\n",
              "      <th>6</th>\n",
              "      <td>source_Ads</td>\n",
              "      <td>0.001370</td>\n",
              "    </tr>\n",
              "    <tr>\n",
              "      <th>7</th>\n",
              "      <td>source_Direct</td>\n",
              "      <td>0.001251</td>\n",
              "    </tr>\n",
              "  </tbody>\n",
              "</table>\n",
              "</div>"
            ],
            "text/plain": [
              "              features     score\n",
              "9  total_pages_visited  0.742010\n",
              "5             new_user  0.088475\n",
              "0        country_China  0.081275\n",
              "4                  age  0.074101\n",
              "2           country_UK  0.004422\n",
              "3           country_US  0.003876\n",
              "1      country_Germany  0.001798\n",
              "8           source_Seo  0.001422\n",
              "6           source_Ads  0.001370\n",
              "7        source_Direct  0.001251"
            ]
          },
          "metadata": {
            "tags": []
          },
          "execution_count": 66
        }
      ]
    },
    {
      "cell_type": "code",
      "metadata": {
        "id": "DRmnP3lWNVZb",
        "colab_type": "code",
        "colab": {
          "base_uri": "https://localhost:8080/",
          "height": 385
        },
        "outputId": "2163e839-9d3a-4b70-c89d-43e1bace5cd2"
      },
      "source": [
        "sns.catplot(x=\"score\",y=\"features\", data=feature_importance3, kind=\"bar\" )"
      ],
      "execution_count": null,
      "outputs": [
        {
          "output_type": "execute_result",
          "data": {
            "text/plain": [
              "<seaborn.axisgrid.FacetGrid at 0x7fb4a61ed048>"
            ]
          },
          "metadata": {
            "tags": []
          },
          "execution_count": 67
        },
        {
          "output_type": "display_data",
          "data": {
            "image/png": "[encoded data removed]",
            "text/plain": [
              "<Figure size 360x360 with 1 Axes>"
            ]
          },
          "metadata": {
            "tags": [],
            "needs_background": "light"
          }
        }
      ]
    },
    {
      "cell_type": "markdown",
      "metadata": {
        "id": "toiDsxu4snm8",
        "colab_type": "text"
      },
      "source": [
        "# **Recommendations for the marketing team**"
      ]
    },
    {
      "cell_type": "markdown",
      "metadata": {
        "id": "xxyThsk_sirF",
        "colab_type": "text"
      },
      "source": [
        "Best model so far : SVM if we're looking the f1-score. 3449 false-positive, 1905 true positive. "
      ]
    },
    {
      "cell_type": "markdown",
      "metadata": {
        "id": "Ioexj00mNe2h",
        "colab_type": "text"
      },
      "source": [
        "\n",
        "*  Find a way to convert new users\n",
        "\n",
        "*  Encourage chinese netizens in particular to convert, targeted campaign (we need to understand why chinese netizens convert less than others : different behaviour, different approach ?)\n",
        "\n",
        "* Encourage younger netizens to convert, targeted campaign \n",
        "\n",
        "* Improve user experience in the website navigation\n",
        "\n",
        "* Retain users who already came with targeted campaigns"
      ]
    }
  ]
}